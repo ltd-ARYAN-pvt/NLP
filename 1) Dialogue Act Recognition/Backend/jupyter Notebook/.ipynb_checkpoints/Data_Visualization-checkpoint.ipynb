{
 "cells": [
  {
   "cell_type": "markdown",
   "id": "c9791d0b-9c0a-48cd-bae4-4fa7c07fc418",
   "metadata": {},
   "source": [
    "# Data Acquisition"
   ]
  },
  {
   "cell_type": "code",
   "execution_count": 2,
   "id": "3e04d147-de84-431e-a1ee-00a6d337e517",
   "metadata": {},
   "outputs": [],
   "source": [
    "import pandas as pd\n",
    "import numpy as np\n",
    "import matplotlib.pyplot as plt"
   ]
  },
  {
   "cell_type": "code",
   "execution_count": 3,
   "id": "404becd4-3b8e-435c-a48a-a5dad1f99417",
   "metadata": {},
   "outputs": [
    {
     "name": "stdout",
     "output_type": "stream",
     "text": [
      "Dataset already exists at C:\\Users\\onlys\\.convokit\\downloads\\switchboard-processed-corpus\n"
     ]
    }
   ],
   "source": [
    "from convokit import Corpus, download\n",
    "corpus = Corpus(filename=download(\"switchboard-processed-corpus\"))"
   ]
  },
  {
   "cell_type": "code",
   "execution_count": 4,
   "id": "c5a20f4e-2cb9-4269-9018-086156406aec",
   "metadata": {},
   "outputs": [
    {
     "name": "stdout",
     "output_type": "stream",
     "text": [
      "Number of Speakers: 440\n",
      "Number of Utterances: 44402\n",
      "Number of Conversations: 1155\n"
     ]
    }
   ],
   "source": [
    "corpus.print_summary_stats()"
   ]
  },
  {
   "cell_type": "code",
   "execution_count": 5,
   "id": "96fad59f",
   "metadata": {},
   "outputs": [
    {
     "data": {
      "text/html": [
       "<div>\n",
       "<style scoped>\n",
       "    .dataframe tbody tr th:only-of-type {\n",
       "        vertical-align: middle;\n",
       "    }\n",
       "\n",
       "    .dataframe tbody tr th {\n",
       "        vertical-align: top;\n",
       "    }\n",
       "\n",
       "    .dataframe thead th {\n",
       "        text-align: right;\n",
       "    }\n",
       "</style>\n",
       "<table border=\"1\" class=\"dataframe\">\n",
       "  <thead>\n",
       "    <tr style=\"text-align: right;\">\n",
       "      <th></th>\n",
       "      <th>timestamp</th>\n",
       "      <th>text</th>\n",
       "      <th>speaker</th>\n",
       "      <th>reply_to</th>\n",
       "      <th>conversation_id</th>\n",
       "      <th>meta.alpha_text</th>\n",
       "      <th>meta.full_tags</th>\n",
       "      <th>meta.tags</th>\n",
       "      <th>meta.prev_id</th>\n",
       "      <th>meta.next_id</th>\n",
       "      <th>vectors</th>\n",
       "    </tr>\n",
       "    <tr>\n",
       "      <th>id</th>\n",
       "      <th></th>\n",
       "      <th></th>\n",
       "      <th></th>\n",
       "      <th></th>\n",
       "      <th></th>\n",
       "      <th></th>\n",
       "      <th></th>\n",
       "      <th></th>\n",
       "      <th></th>\n",
       "      <th></th>\n",
       "      <th></th>\n",
       "    </tr>\n",
       "  </thead>\n",
       "  <tbody>\n",
       "    <tr>\n",
       "      <th>4325-2</th>\n",
       "      <td>None</td>\n",
       "      <td>What kind of experience do you , do you have ,...</td>\n",
       "      <td>1519</td>\n",
       "      <td>None</td>\n",
       "      <td>4325-0</td>\n",
       "      <td>What kind of experience do you do you have the...</td>\n",
       "      <td>o;  qw</td>\n",
       "      <td>o qw</td>\n",
       "      <td>None</td>\n",
       "      <td>4325-3</td>\n",
       "      <td>[]</td>\n",
       "    </tr>\n",
       "    <tr>\n",
       "      <th>4325-3</th>\n",
       "      <td>None</td>\n",
       "      <td>I think , uh , I wonder if that worked .</td>\n",
       "      <td>1632</td>\n",
       "      <td>4325-2</td>\n",
       "      <td>4325-0</td>\n",
       "      <td>I think uh I wonder if that worked</td>\n",
       "      <td>qy^d</td>\n",
       "      <td>qy</td>\n",
       "      <td>4325-2</td>\n",
       "      <td>4325-4</td>\n",
       "      <td>[]</td>\n",
       "    </tr>\n",
       "    <tr>\n",
       "      <th>4325-4</th>\n",
       "      <td>None</td>\n",
       "      <td>Does it say something ?</td>\n",
       "      <td>1519</td>\n",
       "      <td>4325-3</td>\n",
       "      <td>4325-0</td>\n",
       "      <td>Does it say something</td>\n",
       "      <td>qy</td>\n",
       "      <td>qy</td>\n",
       "      <td>4325-3</td>\n",
       "      <td>4325-5</td>\n",
       "      <td>[]</td>\n",
       "    </tr>\n",
       "    <tr>\n",
       "      <th>4325-5</th>\n",
       "      <td>None</td>\n",
       "      <td>I think it usually does . You might try , uh ,...</td>\n",
       "      <td>1632</td>\n",
       "      <td>4325-4</td>\n",
       "      <td>4325-0</td>\n",
       "      <td>I think it usually does You might try uh I do ...</td>\n",
       "      <td>sd;  ad;  h</td>\n",
       "      <td>ad h sd</td>\n",
       "      <td>4325-4</td>\n",
       "      <td>4325-6</td>\n",
       "      <td>[]</td>\n",
       "    </tr>\n",
       "    <tr>\n",
       "      <th>4325-6</th>\n",
       "      <td>None</td>\n",
       "      <td>Okay pause &gt; &gt; Well , Does it usually make a r...</td>\n",
       "      <td>1519</td>\n",
       "      <td>4325-5</td>\n",
       "      <td>4325-0</td>\n",
       "      <td>Okay pause Well Does it usually make a recordi...</td>\n",
       "      <td>qy; aa;  aa</td>\n",
       "      <td>qy aa</td>\n",
       "      <td>4325-5</td>\n",
       "      <td>4325-9</td>\n",
       "      <td>[]</td>\n",
       "    </tr>\n",
       "  </tbody>\n",
       "</table>\n",
       "</div>"
      ],
      "text/plain": [
       "       timestamp                                               text speaker  \\\n",
       "id                                                                            \n",
       "4325-2      None  What kind of experience do you , do you have ,...    1519   \n",
       "4325-3      None           I think , uh , I wonder if that worked .    1632   \n",
       "4325-4      None                            Does it say something ?    1519   \n",
       "4325-5      None  I think it usually does . You might try , uh ,...    1632   \n",
       "4325-6      None  Okay pause > > Well , Does it usually make a r...    1519   \n",
       "\n",
       "       reply_to conversation_id  \\\n",
       "id                                \n",
       "4325-2     None          4325-0   \n",
       "4325-3   4325-2          4325-0   \n",
       "4325-4   4325-3          4325-0   \n",
       "4325-5   4325-4          4325-0   \n",
       "4325-6   4325-5          4325-0   \n",
       "\n",
       "                                          meta.alpha_text meta.full_tags  \\\n",
       "id                                                                         \n",
       "4325-2  What kind of experience do you do you have the...         o;  qw   \n",
       "4325-3                 I think uh I wonder if that worked           qy^d   \n",
       "4325-4                              Does it say something             qy   \n",
       "4325-5  I think it usually does You might try uh I do ...    sd;  ad;  h   \n",
       "4325-6  Okay pause Well Does it usually make a recordi...    qy; aa;  aa   \n",
       "\n",
       "       meta.tags meta.prev_id meta.next_id vectors  \n",
       "id                                                  \n",
       "4325-2      o qw         None       4325-3      []  \n",
       "4325-3        qy       4325-2       4325-4      []  \n",
       "4325-4        qy       4325-3       4325-5      []  \n",
       "4325-5   ad h sd       4325-4       4325-6      []  \n",
       "4325-6     qy aa       4325-5       4325-9      []  "
      ]
     },
     "execution_count": 5,
     "metadata": {},
     "output_type": "execute_result"
    }
   ],
   "source": [
    "raw_data=corpus.get_utterances_dataframe().copy()\n",
    "raw_data.head()"
   ]
  },
  {
   "cell_type": "markdown",
   "id": "0aaba96f-3ca5-4065-9b51-eca8d03e3c17",
   "metadata": {},
   "source": [
    "# Data Engineering and Visualization "
   ]
  },
  {
   "cell_type": "code",
   "execution_count": 6,
   "id": "86cd3e07",
   "metadata": {},
   "outputs": [
    {
     "data": {
      "text/plain": [
       "Index(['timestamp', 'text', 'speaker', 'reply_to', 'conversation_id',\n",
       "       'meta.alpha_text', 'meta.full_tags', 'meta.tags', 'meta.prev_id',\n",
       "       'meta.next_id', 'vectors'],\n",
       "      dtype='object')"
      ]
     },
     "execution_count": 6,
     "metadata": {},
     "output_type": "execute_result"
    }
   ],
   "source": [
    "raw_data.columns"
   ]
  },
  {
   "cell_type": "code",
   "execution_count": 7,
   "id": "61648b75",
   "metadata": {},
   "outputs": [],
   "source": [
    "raw_data.drop(['timestamp', 'text', 'speaker', 'reply_to', 'conversation_id', 'meta.prev_id','meta.next_id', 'vectors'],axis=1, inplace=True)"
   ]
  },
  {
   "cell_type": "code",
   "execution_count": 8,
   "id": "231b7430",
   "metadata": {},
   "outputs": [
    {
     "data": {
      "text/html": [
       "<div>\n",
       "<style scoped>\n",
       "    .dataframe tbody tr th:only-of-type {\n",
       "        vertical-align: middle;\n",
       "    }\n",
       "\n",
       "    .dataframe tbody tr th {\n",
       "        vertical-align: top;\n",
       "    }\n",
       "\n",
       "    .dataframe thead th {\n",
       "        text-align: right;\n",
       "    }\n",
       "</style>\n",
       "<table border=\"1\" class=\"dataframe\">\n",
       "  <thead>\n",
       "    <tr style=\"text-align: right;\">\n",
       "      <th></th>\n",
       "      <th>meta.alpha_text</th>\n",
       "      <th>meta.full_tags</th>\n",
       "      <th>meta.tags</th>\n",
       "    </tr>\n",
       "    <tr>\n",
       "      <th>id</th>\n",
       "      <th></th>\n",
       "      <th></th>\n",
       "      <th></th>\n",
       "    </tr>\n",
       "  </thead>\n",
       "  <tbody>\n",
       "    <tr>\n",
       "      <th>2716-22</th>\n",
       "      <td>No no I mean that</td>\n",
       "      <td>nn^r;  nn;  sd^e</td>\n",
       "      <td>nn sd</td>\n",
       "    </tr>\n",
       "    <tr>\n",
       "      <th>3326-83</th>\n",
       "      <td>Well do you do the do your daughters live clos...</td>\n",
       "      <td>qy</td>\n",
       "      <td>qy</td>\n",
       "    </tr>\n",
       "    <tr>\n",
       "      <th>2032-23</th>\n",
       "      <td>Oh well Bad Company not bad that not</td>\n",
       "      <td>%;  sv</td>\n",
       "      <td>% sv</td>\n",
       "    </tr>\n",
       "    <tr>\n",
       "      <th>3387-14</th>\n",
       "      <td>So you would trust the decision making economi...</td>\n",
       "      <td>qy;  sd</td>\n",
       "      <td>qy sd</td>\n",
       "    </tr>\n",
       "    <tr>\n",
       "      <th>4108-57</th>\n",
       "      <td>Who know what they doing with that</td>\n",
       "      <td>bf</td>\n",
       "      <td>bf</td>\n",
       "    </tr>\n",
       "  </tbody>\n",
       "</table>\n",
       "</div>"
      ],
      "text/plain": [
       "                                           meta.alpha_text    meta.full_tags  \\\n",
       "id                                                                             \n",
       "2716-22                                  No no I mean that  nn^r;  nn;  sd^e   \n",
       "3326-83  Well do you do the do your daughters live clos...                qy   \n",
       "2032-23               Oh well Bad Company not bad that not            %;  sv   \n",
       "3387-14  So you would trust the decision making economi...           qy;  sd   \n",
       "4108-57                 Who know what they doing with that                bf   \n",
       "\n",
       "        meta.tags  \n",
       "id                 \n",
       "2716-22     nn sd  \n",
       "3326-83        qy  \n",
       "2032-23      % sv  \n",
       "3387-14     qy sd  \n",
       "4108-57        bf  "
      ]
     },
     "execution_count": 8,
     "metadata": {},
     "output_type": "execute_result"
    }
   ],
   "source": [
    "raw_data.sample(5)"
   ]
  },
  {
   "cell_type": "code",
   "execution_count": 9,
   "id": "4df53e45-2b9c-4f45-afc4-8363dbefcc0c",
   "metadata": {},
   "outputs": [],
   "source": [
    "raw_data.reset_index(drop=True, inplace=True)"
   ]
  },
  {
   "cell_type": "code",
   "execution_count": 10,
   "id": "cdf1d63f-ac60-4bb9-bafe-23640d199be4",
   "metadata": {},
   "outputs": [
    {
     "data": {
      "text/html": [
       "<div>\n",
       "<style scoped>\n",
       "    .dataframe tbody tr th:only-of-type {\n",
       "        vertical-align: middle;\n",
       "    }\n",
       "\n",
       "    .dataframe tbody tr th {\n",
       "        vertical-align: top;\n",
       "    }\n",
       "\n",
       "    .dataframe thead th {\n",
       "        text-align: right;\n",
       "    }\n",
       "</style>\n",
       "<table border=\"1\" class=\"dataframe\">\n",
       "  <thead>\n",
       "    <tr style=\"text-align: right;\">\n",
       "      <th></th>\n",
       "      <th>meta.alpha_text</th>\n",
       "      <th>meta.full_tags</th>\n",
       "      <th>meta.tags</th>\n",
       "    </tr>\n",
       "  </thead>\n",
       "  <tbody>\n",
       "    <tr>\n",
       "      <th>42969</th>\n",
       "      <td>Yeah it it uh I ca remember how far in advance...</td>\n",
       "      <td>sd;  %;  sv;  ny;  sd;  +</td>\n",
       "      <td>+ % sd ny sv</td>\n",
       "    </tr>\n",
       "    <tr>\n",
       "      <th>32682</th>\n",
       "      <td>Oh I see</td>\n",
       "      <td>b;  ba</td>\n",
       "      <td>ba b</td>\n",
       "    </tr>\n",
       "    <tr>\n",
       "      <th>3796</th>\n",
       "      <td>Where they uh intend to sell you things</td>\n",
       "      <td>sd</td>\n",
       "      <td>sd</td>\n",
       "    </tr>\n",
       "    <tr>\n",
       "      <th>2164</th>\n",
       "      <td>It should be over and done with</td>\n",
       "      <td>^2</td>\n",
       "      <td></td>\n",
       "    </tr>\n",
       "    <tr>\n",
       "      <th>38252</th>\n",
       "      <td>I always thought it would be hard to figure wh...</td>\n",
       "      <td>sd;  %</td>\n",
       "      <td>% sd</td>\n",
       "    </tr>\n",
       "  </tbody>\n",
       "</table>\n",
       "</div>"
      ],
      "text/plain": [
       "                                         meta.alpha_text  \\\n",
       "42969  Yeah it it uh I ca remember how far in advance...   \n",
       "32682                                           Oh I see   \n",
       "3796             Where they uh intend to sell you things   \n",
       "2164                     It should be over and done with   \n",
       "38252  I always thought it would be hard to figure wh...   \n",
       "\n",
       "                  meta.full_tags     meta.tags  \n",
       "42969  sd;  %;  sv;  ny;  sd;  +  + % sd ny sv  \n",
       "32682                     b;  ba          ba b  \n",
       "3796                          sd            sd  \n",
       "2164                          ^2                \n",
       "38252                     sd;  %          % sd  "
      ]
     },
     "execution_count": 10,
     "metadata": {},
     "output_type": "execute_result"
    }
   ],
   "source": [
    "raw_data.sample(5)"
   ]
  },
  {
   "cell_type": "code",
   "execution_count": 11,
   "id": "3ee6bff0-83c5-485d-a828-3511f9645ec1",
   "metadata": {},
   "outputs": [
    {
     "data": {
      "text/html": [
       "<div>\n",
       "<style scoped>\n",
       "    .dataframe tbody tr th:only-of-type {\n",
       "        vertical-align: middle;\n",
       "    }\n",
       "\n",
       "    .dataframe tbody tr th {\n",
       "        vertical-align: top;\n",
       "    }\n",
       "\n",
       "    .dataframe thead th {\n",
       "        text-align: right;\n",
       "    }\n",
       "</style>\n",
       "<table border=\"1\" class=\"dataframe\">\n",
       "  <thead>\n",
       "    <tr style=\"text-align: right;\">\n",
       "      <th></th>\n",
       "      <th>text</th>\n",
       "      <th>da full tags</th>\n",
       "      <th>da tags</th>\n",
       "    </tr>\n",
       "  </thead>\n",
       "  <tbody>\n",
       "    <tr>\n",
       "      <th>44397</th>\n",
       "      <td>That that very true Uh you know of course then...</td>\n",
       "      <td>aa;  sv;  sd</td>\n",
       "      <td>aa sv sd</td>\n",
       "    </tr>\n",
       "    <tr>\n",
       "      <th>44398</th>\n",
       "      <td>Yeah I you know Florida does seem to be at lea...</td>\n",
       "      <td>sd;  b;  %;  sv;  sd</td>\n",
       "      <td>% sv b sd</td>\n",
       "    </tr>\n",
       "    <tr>\n",
       "      <th>44399</th>\n",
       "      <td>I guess so</td>\n",
       "      <td>aa</td>\n",
       "      <td>aa</td>\n",
       "    </tr>\n",
       "    <tr>\n",
       "      <th>44400</th>\n",
       "      <td>Uh cause they clean the uh the lenses for came...</td>\n",
       "      <td>sd;  sv</td>\n",
       "      <td>sv sd</td>\n",
       "    </tr>\n",
       "    <tr>\n",
       "      <th>44401</th>\n",
       "      <td>Right I you know I do know in the air what the...</td>\n",
       "      <td>sd;  b;  sv;  %</td>\n",
       "      <td>% sv b sd</td>\n",
       "    </tr>\n",
       "  </tbody>\n",
       "</table>\n",
       "</div>"
      ],
      "text/plain": [
       "                                                    text  \\\n",
       "44397  That that very true Uh you know of course then...   \n",
       "44398  Yeah I you know Florida does seem to be at lea...   \n",
       "44399                                         I guess so   \n",
       "44400  Uh cause they clean the uh the lenses for came...   \n",
       "44401  Right I you know I do know in the air what the...   \n",
       "\n",
       "               da full tags    da tags  \n",
       "44397          aa;  sv;  sd   aa sv sd  \n",
       "44398  sd;  b;  %;  sv;  sd  % sv b sd  \n",
       "44399                    aa         aa  \n",
       "44400               sd;  sv      sv sd  \n",
       "44401       sd;  b;  sv;  %  % sv b sd  "
      ]
     },
     "execution_count": 11,
     "metadata": {},
     "output_type": "execute_result"
    }
   ],
   "source": [
    "raw_data.rename(columns={'meta.alpha_text': 'text', 'meta.full_tags': 'da full tags', 'meta.tags': 'da tags'},inplace=True)\n",
    "raw_data.tail()"
   ]
  },
  {
   "cell_type": "code",
   "execution_count": 12,
   "id": "e4d4ab84-452f-49cc-b744-53da63cda9b3",
   "metadata": {},
   "outputs": [
    {
     "name": "stdout",
     "output_type": "stream",
     "text": [
      "0       o qw\n",
      "1         qy\n",
      "2         qy\n",
      "3    ad h sd\n",
      "4      qy aa\n",
      "Name: da tags, dtype: object\n"
     ]
    },
    {
     "data": {
      "text/html": [
       "<div>\n",
       "<style scoped>\n",
       "    .dataframe tbody tr th:only-of-type {\n",
       "        vertical-align: middle;\n",
       "    }\n",
       "\n",
       "    .dataframe tbody tr th {\n",
       "        vertical-align: top;\n",
       "    }\n",
       "\n",
       "    .dataframe thead th {\n",
       "        text-align: right;\n",
       "    }\n",
       "</style>\n",
       "<table border=\"1\" class=\"dataframe\">\n",
       "  <thead>\n",
       "    <tr style=\"text-align: right;\">\n",
       "      <th></th>\n",
       "      <th></th>\n",
       "      <th>\"</th>\n",
       "      <th>%</th>\n",
       "      <th>+</th>\n",
       "      <th>aa</th>\n",
       "      <th>aa,ar</th>\n",
       "      <th>aap</th>\n",
       "      <th>ad</th>\n",
       "      <th>am</th>\n",
       "      <th>ar</th>\n",
       "      <th>...</th>\n",
       "      <th>qrr</th>\n",
       "      <th>qw</th>\n",
       "      <th>qy</th>\n",
       "      <th>sd</th>\n",
       "      <th>sd,qy</th>\n",
       "      <th>sd,sv</th>\n",
       "      <th>sv</th>\n",
       "      <th>t1</th>\n",
       "      <th>t3</th>\n",
       "      <th>x</th>\n",
       "    </tr>\n",
       "  </thead>\n",
       "  <tbody>\n",
       "    <tr>\n",
       "      <th>0</th>\n",
       "      <td>0</td>\n",
       "      <td>0</td>\n",
       "      <td>0</td>\n",
       "      <td>0</td>\n",
       "      <td>0</td>\n",
       "      <td>0</td>\n",
       "      <td>0</td>\n",
       "      <td>0</td>\n",
       "      <td>0</td>\n",
       "      <td>0</td>\n",
       "      <td>...</td>\n",
       "      <td>0</td>\n",
       "      <td>1</td>\n",
       "      <td>0</td>\n",
       "      <td>0</td>\n",
       "      <td>0</td>\n",
       "      <td>0</td>\n",
       "      <td>0</td>\n",
       "      <td>0</td>\n",
       "      <td>0</td>\n",
       "      <td>0</td>\n",
       "    </tr>\n",
       "    <tr>\n",
       "      <th>1</th>\n",
       "      <td>0</td>\n",
       "      <td>0</td>\n",
       "      <td>0</td>\n",
       "      <td>0</td>\n",
       "      <td>0</td>\n",
       "      <td>0</td>\n",
       "      <td>0</td>\n",
       "      <td>0</td>\n",
       "      <td>0</td>\n",
       "      <td>0</td>\n",
       "      <td>...</td>\n",
       "      <td>0</td>\n",
       "      <td>0</td>\n",
       "      <td>1</td>\n",
       "      <td>0</td>\n",
       "      <td>0</td>\n",
       "      <td>0</td>\n",
       "      <td>0</td>\n",
       "      <td>0</td>\n",
       "      <td>0</td>\n",
       "      <td>0</td>\n",
       "    </tr>\n",
       "    <tr>\n",
       "      <th>2</th>\n",
       "      <td>0</td>\n",
       "      <td>0</td>\n",
       "      <td>0</td>\n",
       "      <td>0</td>\n",
       "      <td>0</td>\n",
       "      <td>0</td>\n",
       "      <td>0</td>\n",
       "      <td>0</td>\n",
       "      <td>0</td>\n",
       "      <td>0</td>\n",
       "      <td>...</td>\n",
       "      <td>0</td>\n",
       "      <td>0</td>\n",
       "      <td>1</td>\n",
       "      <td>0</td>\n",
       "      <td>0</td>\n",
       "      <td>0</td>\n",
       "      <td>0</td>\n",
       "      <td>0</td>\n",
       "      <td>0</td>\n",
       "      <td>0</td>\n",
       "    </tr>\n",
       "    <tr>\n",
       "      <th>3</th>\n",
       "      <td>0</td>\n",
       "      <td>0</td>\n",
       "      <td>0</td>\n",
       "      <td>0</td>\n",
       "      <td>0</td>\n",
       "      <td>0</td>\n",
       "      <td>0</td>\n",
       "      <td>1</td>\n",
       "      <td>0</td>\n",
       "      <td>0</td>\n",
       "      <td>...</td>\n",
       "      <td>0</td>\n",
       "      <td>0</td>\n",
       "      <td>0</td>\n",
       "      <td>1</td>\n",
       "      <td>0</td>\n",
       "      <td>0</td>\n",
       "      <td>0</td>\n",
       "      <td>0</td>\n",
       "      <td>0</td>\n",
       "      <td>0</td>\n",
       "    </tr>\n",
       "    <tr>\n",
       "      <th>4</th>\n",
       "      <td>0</td>\n",
       "      <td>0</td>\n",
       "      <td>0</td>\n",
       "      <td>0</td>\n",
       "      <td>1</td>\n",
       "      <td>0</td>\n",
       "      <td>0</td>\n",
       "      <td>0</td>\n",
       "      <td>0</td>\n",
       "      <td>0</td>\n",
       "      <td>...</td>\n",
       "      <td>0</td>\n",
       "      <td>0</td>\n",
       "      <td>1</td>\n",
       "      <td>0</td>\n",
       "      <td>0</td>\n",
       "      <td>0</td>\n",
       "      <td>0</td>\n",
       "      <td>0</td>\n",
       "      <td>0</td>\n",
       "      <td>0</td>\n",
       "    </tr>\n",
       "  </tbody>\n",
       "</table>\n",
       "<p>5 rows × 53 columns</p>\n",
       "</div>"
      ],
      "text/plain": [
       "      \"  %  +  aa  aa,ar  aap  ad  am  ar  ...  qrr  qw  qy  sd  sd,qy  sd,sv  \\\n",
       "0  0  0  0  0   0      0    0   0   0   0  ...    0   1   0   0      0      0   \n",
       "1  0  0  0  0   0      0    0   0   0   0  ...    0   0   1   0      0      0   \n",
       "2  0  0  0  0   0      0    0   0   0   0  ...    0   0   1   0      0      0   \n",
       "3  0  0  0  0   0      0    0   1   0   0  ...    0   0   0   1      0      0   \n",
       "4  0  0  0  0   1      0    0   0   0   0  ...    0   0   1   0      0      0   \n",
       "\n",
       "   sv  t1  t3  x  \n",
       "0   0   0   0  0  \n",
       "1   0   0   0  0  \n",
       "2   0   0   0  0  \n",
       "3   0   0   0  0  \n",
       "4   0   0   0  0  \n",
       "\n",
       "[5 rows x 53 columns]"
      ]
     },
     "execution_count": 12,
     "metadata": {},
     "output_type": "execute_result"
    }
   ],
   "source": [
    "from sklearn.preprocessing import MultiLabelBinarizer\n",
    "raw_data_enc=raw_data.loc[:,'da tags'].copy()\n",
    "raw_data_enc['da tags'] = raw_data['da tags'].apply(lambda x: x.strip().split(' '))\n",
    "print(raw_data_enc.head())\n",
    "\n",
    "# Initialize the MultiLabelBinarizer\n",
    "mlb = MultiLabelBinarizer()\n",
    "one_hot_encoded = mlb.fit_transform(raw_data_enc['da tags'])\n",
    "encoded_df = pd.DataFrame(one_hot_encoded, columns=mlb.classes_)\n",
    "encoded_df.head()"
   ]
  },
  {
   "cell_type": "code",
   "execution_count": 13,
   "id": "c276237f-487e-4898-86a8-28833c0596e8",
   "metadata": {},
   "outputs": [
    {
     "name": "stdout",
     "output_type": "stream",
     "text": [
      "Index(['', '\"', '%', '+', 'aa', 'aa,ar', 'aap', 'ad', 'am', 'ar', 'arp', 'b',\n",
      "       'ba', 'bc', 'bd', 'bf', 'bh', 'bk', 'br', 'by', 'cc', 'co', 'fa', 'fc',\n",
      "       'fe', 'fo', 'fp', 'ft', 'fw', 'fx', 'h', 'h,sd', 'na', 'nd', 'ng', 'nn',\n",
      "       'no', 'ny', 'o', 'oo', 'qh', 'qo', 'qr', 'qrr', 'qw', 'qy', 'sd',\n",
      "       'sd,qy', 'sd,sv', 'sv', 't1', 't3', 'x'],\n",
      "      dtype='object')\n"
     ]
    }
   ],
   "source": [
    "print(encoded_df.columns)"
   ]
  },
  {
   "cell_type": "code",
   "execution_count": 14,
   "id": "5c70f150-1124-4e9d-b4b1-dc12017b2721",
   "metadata": {},
   "outputs": [],
   "source": [
    "label_counts = encoded_df.sum(axis=0)\n",
    "\n",
    "# Sort labels by count (descending order for better visualization)\n",
    "sorted_labels = label_counts.sort_values(ascending=False)"
   ]
  },
  {
   "cell_type": "code",
   "execution_count": 15,
   "id": "99a75045-7456-4f8d-8f1e-e6fe28cd6486",
   "metadata": {},
   "outputs": [
    {
     "data": {
      "text/plain": [
       "sd       24553\n",
       "sv       13944\n",
       "%         9542\n",
       "b         8995\n",
       "aa        6275\n",
       "+         6266\n",
       "qy        4973\n",
       "ba        2805\n",
       "qw        1908\n",
       "ny        1674\n",
       "h         1113\n",
       "fc        1003\n",
       "nn         959\n",
       "bf         861\n",
       "na         660\n",
       "qo         632\n",
       "o          610\n",
       "ad         592\n",
       "bk         550\n",
       "qh         496\n",
       "bh         437\n",
       "           357\n",
       "ng         281\n",
       "ar         280\n",
       "no         266\n",
       "qr         234\n",
       "qrr        209\n",
       "nd         157\n",
       "x          152\n",
       "br         118\n",
       "fe         115\n",
       "t1          98\n",
       "fp          84\n",
       "fa          70\n",
       "t3          65\n",
       "bd          63\n",
       "ft          61\n",
       "co          61\n",
       "aap         57\n",
       "am          35\n",
       "cc          34\n",
       "\"           21\n",
       "arp         21\n",
       "by          17\n",
       "fx           9\n",
       "bc           7\n",
       "fo           6\n",
       "oo           6\n",
       "fw           1\n",
       "sd,qy        1\n",
       "sd,sv        1\n",
       "aa,ar        1\n",
       "h,sd         1\n",
       "dtype: int64"
      ]
     },
     "execution_count": 15,
     "metadata": {},
     "output_type": "execute_result"
    }
   ],
   "source": [
    "sorted_labels"
   ]
  },
  {
   "cell_type": "code",
   "execution_count": 16,
   "id": "c5f7fc13-0f63-49fc-82f9-19fb530be8f8",
   "metadata": {},
   "outputs": [
    {
     "data": {
      "image/png": "[encoded data removed]",
      "text/plain": [
       "<Figure size 800x600 with 1 Axes>"
      ]
     },
     "metadata": {},
     "output_type": "display_data"
    }
   ],
   "source": [
    "# Create pie chart (consider using subplots for better readability)\n",
    "plt.figure(figsize=(8, 6))  # Adjust figure size as needed\n",
    "plt.pie(sorted_labels, labels=sorted_labels.index, autopct=\"%1.1f%%\")\n",
    "plt.title(\"Distribution of Labels (Pie Chart)\")\n",
    "plt.show()"
   ]
  },
  {
   "cell_type": "code",
   "execution_count": 17,
   "id": "fa3a852d-79b6-46de-ad19-aa7edd1ad075",
   "metadata": {},
   "outputs": [
    {
     "data": {
      "image/png": "[encoded data removed]",
      "text/plain": [
       "<Figure size 1000x600 with 1 Axes>"
      ]
     },
     "metadata": {},
     "output_type": "display_data"
    }
   ],
   "source": [
    "# Create bar chart\n",
    "plt.figure(figsize=(10, 6))  # Adjust figure size as needed\n",
    "sorted_labels.plot(kind='bar', color='skyblue')\n",
    "plt.xticks(rotation=45, ha='right')  # Rotate x-axis labels for readability\n",
    "plt.title(\"Distribution of Labels (Bar Chart)\")\n",
    "plt.xlabel(\"Label\")\n",
    "plt.ylabel(\"Count\")\n",
    "plt.show()"
   ]
  },
  {
   "cell_type": "markdown",
   "id": "2970ce0b-37ef-4ce3-8ef9-4dcdd76de319",
   "metadata": {},
   "source": [
    "# Text Preprocessing"
   ]
  },
  {
   "cell_type": "code",
   "execution_count": 18,
   "id": "9ed04643-217e-4bb0-8bba-17fe67bdd2d7",
   "metadata": {},
   "outputs": [
    {
     "name": "stdout",
     "output_type": "stream",
     "text": [
      "{'on', 'herself', 'is', 'own', 'had', 'over', 'than', \"shouldn't\", 'before', 'about', \"needn't\", 'ourselves', 'or', 'how', 'but', 'that', 'isn', 'do', 'myself', 'whom', 'most', 'hadn', \"weren't\", 'very', \"mustn't\", 'such', 'our', 'from', 've', 'few', 'll', 'what', 'where', 'yourselves', 'in', 'then', 'until', 'who', 'will', 'weren', 'some', 'and', 'its', 'during', 'mustn', 'can', 'because', 'under', 'not', 'any', 'his', \"isn't\", 't', 'me', 'only', 'those', 'be', 'we', 'more', \"aren't\", 'needn', 'down', 'for', 'between', 'too', \"couldn't\", 'having', \"you're\", 'did', 'you', 'hers', 'doing', 'won', 'wasn', 's', 'ours', 'out', 'wouldn', 'haven', 'at', \"wouldn't\", 'been', 'further', \"shan't\", 'by', 'am', 'mightn', \"she's\", 'their', 'while', 'after', 'it', 'yourself', 'himself', 'ma', \"hasn't\", 'here', \"hadn't\", 'aren', 'against', \"don't\", 'should', 'these', 'once', 'was', 'him', 'up', 'to', \"you've\", 'i', 'doesn', 'your', 'which', 'm', 'hasn', 'into', 'just', 'has', \"it's\", 'were', 'with', 'don', 'off', 'themselves', 'of', 'through', \"that'll\", \"doesn't\", 'does', 'this', 'other', \"should've\", 'them', 'couldn', \"haven't\", 'as', 'an', 'he', 'above', 'all', 'if', \"you'll\", 'so', \"you'd\", 'are', 'again', 'yours', 'shan', 'nor', 'didn', 'each', \"wasn't\", 'o', 'my', 'shouldn', 'why', \"didn't\", 'she', \"won't\", 'now', 'a', 'they', 'being', 'same', 'y', 'both', \"mightn't\", 'itself', 'theirs', 'below', 'have', 're', 'her', 'the', 'no', 'd', 'when', 'there', 'ain'}\n"
     ]
    },
    {
     "name": "stderr",
     "output_type": "stream",
     "text": [
      "[nltk_data] Downloading package stopwords to\n",
      "[nltk_data]     C:\\Users\\onlys\\AppData\\Roaming\\nltk_data...\n",
      "[nltk_data]   Package stopwords is already up-to-date!\n"
     ]
    }
   ],
   "source": [
    "import re\n",
    "import nltk\n",
    "from nltk.tokenize import word_tokenize\n",
    "from nltk.corpus import stopwords\n",
    "from nltk.stem import WordNetLemmatizer\n",
    "\n",
    "lemmatizer = WordNetLemmatizer()\n",
    "nltk.download('stopwords')\n",
    "stop_words = set(stopwords.words('english'))\n",
    "print(stop_words)"
   ]
  },
  {
   "cell_type": "code",
   "execution_count": 19,
   "id": "de774a95-ff44-400f-acca-d8d3b38a4470",
   "metadata": {},
   "outputs": [
    {
     "name": "stderr",
     "output_type": "stream",
     "text": [
      "[nltk_data] Downloading package punkt to\n",
      "[nltk_data]     C:\\Users\\onlys\\AppData\\Roaming\\nltk_data...\n",
      "[nltk_data]   Package punkt is already up-to-date!\n",
      "[nltk_data] Downloading package wordnet to\n",
      "[nltk_data]     C:\\Users\\onlys\\AppData\\Roaming\\nltk_data...\n",
      "[nltk_data]   Package wordnet is already up-to-date!\n"
     ]
    },
    {
     "data": {
      "text/plain": [
       "True"
      ]
     },
     "execution_count": 19,
     "metadata": {},
     "output_type": "execute_result"
    }
   ],
   "source": [
    "nltk.download('punkt')\n",
    "nltk.download('wordnet')"
   ]
  },
  {
   "cell_type": "code",
   "execution_count": 20,
   "id": "bc3c9f1b-8850-48ab-83da-ff21ea134663",
   "metadata": {},
   "outputs": [],
   "source": [
    "# negative words to exclude from stop_words\n",
    "negative_words = {\"no\",\"don't\", \"doesn't\", \"didn't\", \"won't\", \"wouldn't\", \"can't\", \"mightn\", 'didn', 'ain', \"cannot\", \"isn't\", \"aren't\", 'needn', \"wasn't\", \"weren't\", \"haven't\", \"hasn't\", \"hadn't\", \"mustn't\", \"needn't\", \"shan't\", \"shouldn't\",'not', \"mightn't\", \"couldn't\",'no', \"hasn't\"}\n",
    "\n",
    "# Remove negative words from stop_words\n",
    "stop_words -= negative_words"
   ]
  },
  {
   "cell_type": "code",
   "execution_count": 21,
   "id": "59ae1748-27d8-4850-8564-fcf034bf6442",
   "metadata": {},
   "outputs": [
    {
     "name": "stdout",
     "output_type": "stream",
     "text": [
      "{'on', 'herself', 'is', 'own', 'had', 'over', 'than', 'before', 'about', 'ourselves', 'or', 'how', 'but', 'that', 'isn', 'do', 'myself', 'whom', 'most', 'hadn', 'very', 'such', 'our', 'from', 've', 'few', 'll', 'what', 'where', 'yourselves', 'in', 'then', 'until', 'who', 'will', 'weren', 'some', 'and', 'its', 'during', 'mustn', 'can', 'because', 'under', 'any', 'his', 't', 'me', 'only', 'those', 'be', 'we', 'more', 'down', 'for', 'between', 'too', 'having', \"you're\", 'did', 'you', 'hers', 'doing', 'won', 'wasn', 's', 'ours', 'out', 'wouldn', 'haven', 'at', 'been', 'further', 'by', 'am', \"she's\", 'their', 'while', 'after', 'it', 'yourself', 'himself', 'ma', 'here', 'aren', 'against', 'should', 'these', 'once', 'was', 'him', 'up', 'to', \"you've\", 'i', 'doesn', 'your', 'which', 'm', 'hasn', 'into', 'just', 'has', \"it's\", 'were', 'with', 'don', 'off', 'themselves', 'of', 'through', \"that'll\", 'does', 'this', 'other', \"should've\", 'them', 'couldn', 'as', 'an', 'he', 'above', 'all', 'if', \"you'll\", 'so', \"you'd\", 'are', 'again', 'yours', 'shan', 'nor', 'each', 'o', 'my', 'shouldn', 'why', 'she', 'now', 'a', 'they', 'being', 'same', 'y', 'both', 'itself', 'theirs', 'below', 'have', 're', 'her', 'the', 'd', 'when', 'there'}\n"
     ]
    }
   ],
   "source": [
    "print(stop_words)"
   ]
  },
  {
   "cell_type": "code",
   "execution_count": 22,
   "id": "ed2a2e11-7292-42dd-a343-55a3981c4286",
   "metadata": {},
   "outputs": [
    {
     "name": "stdout",
     "output_type": "stream",
     "text": [
      "not good kid joking\n"
     ]
    }
   ],
   "source": [
    "def preprocess_text_pipeline(text):\n",
    "    #--> 1. Lowercasing\n",
    "    text = text.lower()\n",
    "\n",
    "    #--> 2. Remove HTML tags and special characters\n",
    "    text = re.sub(r'<.*?>', '', text)\n",
    "    text = re.sub(r'[^a-zA-Z\\s]', '', text)\n",
    "\n",
    "    #--> 3. Tokenize the text\n",
    "    tokens = word_tokenize(text)\n",
    "    # print(tokens)\n",
    "\n",
    "    #--> 4. Remove stopwords\n",
    "    tokens = [token for token in tokens if token not in stop_words]\n",
    "    # print(tokens)\n",
    "\n",
    "    #--> 5. Lemmatize the tokens\n",
    "    tokens = [lemmatizer.lemmatize(token) for token in tokens]\n",
    "    # print(tokens)\n",
    "\n",
    "    #--> 7. Join the tokens back into a string\n",
    "    text = ' '.join(tokens)\n",
    "\n",
    "    return text\n",
    "\n",
    "#--> Example usage:\n",
    "text = \"I am not a @good kid. I am joking.\"\n",
    "preprocessed_text = preprocess_text_pipeline(text)\n",
    "print(preprocessed_text)"
   ]
  },
  {
   "cell_type": "markdown",
   "id": "9bb93b46-f13a-4604-81ec-05d34e1db9be",
   "metadata": {},
   "source": [
    "# Word Embedding and padding"
   ]
  },
  {
   "cell_type": "code",
   "execution_count": null,
   "id": "fd1022d6-d47a-4cf7-9443-14fee757dd01",
   "metadata": {},
   "outputs": [],
   "source": [
    "# ! wget http://downloads.cs.stanford.edu/nlp/data/glove.6B.zip"
   ]
  },
  {
   "cell_type": "code",
   "execution_count": null,
   "id": "a6d6da9a-034b-4b17-b654-b35f172ba351",
   "metadata": {},
   "outputs": [],
   "source": [
    "# ! unzip glove.6B.zip"
   ]
  },
  {
   "cell_type": "code",
   "execution_count": 23,
   "id": "bc932cac-86e0-4aa9-8670-42e4aedaf9f2",
   "metadata": {},
   "outputs": [],
   "source": [
    "import numpy as np\n",
    "\n",
    "words = dict()\n",
    "\n",
    "def add_to_dict(d, filename):\n",
    "  with open(filename, 'r', encoding=\"utf-8\") as f:\n",
    "    for line in f.readlines():\n",
    "      line = line.split(' ')\n",
    "\n",
    "      try:\n",
    "        d[line[0]] = np.array(line[1:], dtype=float)\n",
    "      except:\n",
    "        continue\n",
    "\n",
    "add_to_dict(words, 'glove.6B.50d.txt')\n",
    "# words"
   ]
  },
  {
   "cell_type": "code",
   "execution_count": 24,
   "id": "92d8f09e-286b-43bc-aeb8-c5ce689e718b",
   "metadata": {},
   "outputs": [
    {
     "data": {
      "text/plain": [
       "400000"
      ]
     },
     "execution_count": 24,
     "metadata": {},
     "output_type": "execute_result"
    }
   ],
   "source": [
    "len(words)"
   ]
  },
  {
   "cell_type": "code",
   "execution_count": 25,
   "id": "a1e9485f-ffc0-41e1-b0d9-babfc0797d3c",
   "metadata": {},
   "outputs": [
    {
     "name": "stdout",
     "output_type": "stream",
     "text": [
      "[[-0.85233   -0.14749    0.049936  -0.7872     0.19493    0.48929\n",
      "   0.34392   -0.61542   -0.37281    0.77186   -0.71914   -0.12973\n",
      "  -0.40985   -0.65339    0.94961   -0.49831    0.25442    0.049586\n",
      "   0.18927   -0.14948   -0.27686    0.32095    0.85855    1.0173\n",
      "   0.22242   -1.8237    -0.69343   -0.018455   1.4549    -1.1038\n",
      "   1.526      0.69842   -0.5901    -1.0475    -1.2981    -0.47258\n",
      "  -0.3198    -1.3484    -0.19307    0.18261    0.043868  -0.17222\n",
      "   0.16779    0.66191    0.71634    0.16961   -0.34744   -0.15155\n",
      "  -0.051676   0.29743  ]\n",
      " [ 0.06912    0.22159   -0.66613   -0.14061    0.063365   0.41747\n",
      "  -0.21723   -1.0401     0.026069   1.3382    -0.083642   0.66324\n",
      "  -0.45989    0.95883    1.3185    -0.62523    0.56153    0.65288\n",
      "  -1.2364     0.29692    1.238      0.80621    0.40967    0.39945\n",
      "   0.57983   -1.3658    -1.6764     0.069718  -0.59634   -0.63117\n",
      "   2.5894    -0.56915    0.46879   -0.9249    -0.44629    0.42283\n",
      "   0.17637   -0.014459  -0.75358   -0.9785     0.023075   1.2227\n",
      "  -0.17517   -1.5743    -0.9535    -0.10959    0.24517   -0.93551\n",
      "  -0.20943    0.67333  ]\n",
      " [-0.14968   -0.42252    0.16736    0.13474   -0.31065   -0.11993\n",
      "   0.041695   0.32462    0.15964    0.063534  -0.55293   -0.69798\n",
      "  -0.88776    0.1533     1.4365    -0.51171    0.21257   -0.084376\n",
      "  -1.078      0.50821   -0.51022   -0.27264    0.2177    -0.14752\n",
      "   0.12493   -1.3302    -1.0127    -0.13035    1.0936     0.73769\n",
      "   2.7542     0.47829    0.62271   -0.55323   -0.2487     0.49747\n",
      "  -0.25406   -0.82531    0.2355    -0.31773   -2.0148     0.0085579\n",
      "   0.59227   -0.22375    0.097944   0.7723    -0.19696    0.45305\n",
      "   0.58813   -0.15727  ]] (3, 50)\n"
     ]
    }
   ],
   "source": [
    "def text_to_word_vectors(message, word_dict=words):\n",
    "  text=preprocess_text_pipeline(message)\n",
    "  # print(text)\n",
    "  tokens = word_tokenize(text)\n",
    "  processed_list_of_tokens = [t for t in tokens if t in words]\n",
    "\n",
    "  vectors = []\n",
    "\n",
    "  for token in processed_list_of_tokens:\n",
    "    if token not in word_dict:\n",
    "      continue\n",
    "\n",
    "    token_vector = word_dict[token]\n",
    "    vectors.append(token_vector)\n",
    "\n",
    "  return np.array(vectors, dtype=float)\n",
    "\n",
    "\n",
    "vector=text_to_word_vectors('i hate this film, it is worst')\n",
    "print(vector,vector.shape)"
   ]
  },
  {
   "cell_type": "code",
   "execution_count": 26,
   "id": "215fc401-a1e9-456e-a203-d61fa2a071c0",
   "metadata": {},
   "outputs": [],
   "source": [
    "def df_to_X_vector(dff):\n",
    "\n",
    "  all_word_vector_sequences = []\n",
    "\n",
    "  for message in dff['text']:\n",
    "    message_as_vector_seq = text_to_word_vectors(message)\n",
    "\n",
    "    if message_as_vector_seq.shape[0] == 0:\n",
    "      message_as_vector_seq = np.zeros(shape=(1, 50))\n",
    "\n",
    "    all_word_vector_sequences.append(message_as_vector_seq)\n",
    "\n",
    "  return all_word_vector_sequences"
   ]
  },
  {
   "cell_type": "code",
   "execution_count": 28,
   "id": "0a2f4169-10da-4fef-b1a8-1feb32f080ae",
   "metadata": {},
   "outputs": [
    {
     "name": "stdout",
     "output_type": "stream",
     "text": [
      "Total DA we are working on:- 14\n"
     ]
    }
   ],
   "source": [
    "desired_dialogue_acts = [\n",
    "    'sd', 'sv', '%', 'b', 'aa', '+', 'qy', 'ba', 'qw', 'ny', 'h', 'fc',\n",
    "    'nn', 'bf'\n",
    "]\n",
    "print(\"Total DA we are working on:-\",len(desired_dialogue_acts))"
   ]
  },
  {
   "cell_type": "code",
   "execution_count": 29,
   "id": "31fe3f98-082e-4331-b651-760b36cda33b",
   "metadata": {},
   "outputs": [],
   "source": [
    "X=df_to_X_vector(raw_data)"
   ]
  },
  {
   "cell_type": "code",
   "execution_count": 30,
   "id": "de8b3317-d1c4-4e62-a8dd-52fd573b4521",
   "metadata": {},
   "outputs": [
    {
     "name": "stdout",
     "output_type": "stream",
     "text": [
      "44402 2\n"
     ]
    }
   ],
   "source": [
    "print(len(X), len(X[2]))"
   ]
  },
  {
   "cell_type": "code",
   "execution_count": 31,
   "id": "9ddd49c2-2b56-491c-b7ba-3559a9e36d6d",
   "metadata": {},
   "outputs": [
    {
     "data": {
      "text/plain": [
       "(array([3.9016e+04, 4.2230e+03, 8.3100e+02, 2.3500e+02, 5.5000e+01,\n",
       "        3.1000e+01, 8.0000e+00, 1.0000e+00, 0.0000e+00, 2.0000e+00]),\n",
       " array([  1. ,  31.6,  62.2,  92.8, 123.4, 154. , 184.6, 215.2, 245.8,\n",
       "        276.4, 307. ]),\n",
       " <BarContainer object of 10 artists>)"
      ]
     },
     "execution_count": 31,
     "metadata": {},
     "output_type": "execute_result"
    },
    {
     "data": {
      "image/png": "[encoded data removed]",
      "text/plain": [
       "<Figure size 640x480 with 1 Axes>"
      ]
     },
     "metadata": {},
     "output_type": "display_data"
    }
   ],
   "source": [
    "sequence_lengths = []\n",
    "\n",
    "for i in range(len(X)):\n",
    "  sequence_lengths.append(len(X[i]))\n",
    "\n",
    "plt.hist(sequence_lengths)"
   ]
  },
  {
   "cell_type": "code",
   "execution_count": 32,
   "id": "c10e8c10-f5bc-4515-8b8d-74d7c7c56d72",
   "metadata": {},
   "outputs": [
    {
     "data": {
      "text/plain": [
       "count    44402.000000\n",
       "mean        14.052340\n",
       "std         17.827344\n",
       "min          1.000000\n",
       "25%          3.000000\n",
       "50%          7.000000\n",
       "75%         18.000000\n",
       "max        307.000000\n",
       "dtype: float64"
      ]
     },
     "execution_count": 32,
     "metadata": {},
     "output_type": "execute_result"
    }
   ],
   "source": [
    "pd.Series(sequence_lengths).describe()"
   ]
  },
  {
   "cell_type": "code",
   "execution_count": 33,
   "id": "62e77ac8-787e-4054-a78d-ba2caeffa137",
   "metadata": {},
   "outputs": [
    {
     "data": {
      "image/png": "[encoded data removed]",
      "text/plain": [
       "<Figure size 640x480 with 1 Axes>"
      ]
     },
     "metadata": {},
     "output_type": "display_data"
    },
    {
     "name": "stdout",
     "output_type": "stream",
     "text": [
      "Sequence Lengths Summary:\n",
      "Mean: 14.052339984685375\n",
      "Median: 7.0\n",
      "Max: 307\n",
      "Min: 1\n",
      "75th percentile: 18.0\n",
      "90th percentile: 35.0\n",
      "Number of sequences exceeding desired length: 2039\n"
     ]
    }
   ],
   "source": [
    "def analyze_sequence_lengths(dfx, desired_sequence_length=50):\n",
    "    lengths = [x.shape[0] for x in dfx]\n",
    "\n",
    "    plt.hist(lengths, bins=50, edgecolor='k', alpha=0.7)\n",
    "    plt.axvline(x=desired_sequence_length, color='r', linestyle='--', label='Desired Sequence Length')\n",
    "    plt.xlabel('Sequence Length')\n",
    "    plt.ylabel('Frequency')\n",
    "    plt.title('Distribution of Sequence Lengths')\n",
    "    plt.legend()\n",
    "    plt.show()\n",
    "\n",
    "    print(\"Sequence Lengths Summary:\")\n",
    "    print(f\"Mean: {np.mean(lengths)}\")\n",
    "    print(f\"Median: {np.median(lengths)}\")\n",
    "    print(f\"Max: {np.max(lengths)}\")\n",
    "    print(f\"Min: {np.min(lengths)}\")\n",
    "    print(f\"75th percentile: {np.percentile(lengths, 75)}\")\n",
    "    print(f\"90th percentile: {np.percentile(lengths, 90)}\")\n",
    "    print(f\"Number of sequences exceeding desired length: {sum(l > desired_sequence_length for l in lengths)}\")\n",
    "\n",
    "analyze_sequence_lengths(X, desired_sequence_length=50)"
   ]
  },
  {
   "cell_type": "code",
   "execution_count": 35,
   "id": "4597a23b-5f0f-40d5-91f3-284b3d7b3750",
   "metadata": {},
   "outputs": [],
   "source": [
    "import tqdm\n",
    "def pad_X(X, batch_size=20, desired_sequence_length=50):\n",
    "    padded_X = []\n",
    "    for batch in tqdm.tqdm(range(0, len(X), batch_size), desc=\"Padding batches\", unit=\"batch\"):\n",
    "        batch_X = X[batch:batch+batch_size]\n",
    "        batch_padded = [np.pad(x, ((0, desired_sequence_length - x.shape[0]), (0, 0)), mode='constant') for x in batch_X]\n",
    "        padded_X.extend(batch_padded)\n",
    "    return np.array(padded_X).astype(float)"
   ]
  },
  {
   "cell_type": "code",
   "execution_count": 36,
   "id": "d2bd1b7b-e2bd-4127-9e9d-7acfce7f53c4",
   "metadata": {},
   "outputs": [],
   "source": [
    "def filter_df(dfx, dfy, desired_sequence_length=50):\n",
    "    X_filtered = []\n",
    "    y_index = []\n",
    "    total_sequences = len(dfx)\n",
    "    count_exceeding_length = 0\n",
    "    debug_info = []\n",
    "\n",
    "    for i,x in enumerate(dfx):\n",
    "        if x.shape[0] <= desired_sequence_length:\n",
    "            X_filtered.append(x)\n",
    "            y_index.append(i)\n",
    "        else:\n",
    "            count_exceeding_length += 1\n",
    "            if len(debug_info) < 10:  # Collect debug info for first 10 sequences that are filtered out\n",
    "                debug_info.append((x.shape[0], x))\n",
    "\n",
    "    y_filtered = encoded_df.iloc[y_index,:].values\n",
    "\n",
    "    print(\"Total sequences:\", total_sequences)\n",
    "    print(\"Sequences exceeding desired length:\", count_exceeding_length)\n",
    "    print(\"Filtered dataset size:\", len(X_filtered), \"Shape: \",y_filtered.shape)\n",
    "    print(\"Sample of sequences filtered out (length, x, y):\", debug_info)\n",
    "\n",
    "    return X_filtered,y_filtered"
   ]
  },
  {
   "cell_type": "code",
   "execution_count": 37,
   "id": "0772a6b9-e039-4037-a890-8883fb8676e0",
   "metadata": {},
   "outputs": [
    {
     "name": "stdout",
     "output_type": "stream",
     "text": [
      "Total sequences: 44402\n",
      "Sequences exceeding desired length: 2039\n",
      "Filtered dataset size: 42363 Shape:  (42363, 53)\n",
      "Sample of sequences filtered out (length, x, y): [(86, array([[ 1.8019e-01,  1.0270e+00,  8.1943e-01, ..., -2.4567e-01,\n",
      "         1.2170e+00, -7.4161e-02],\n",
      "       [ 3.4957e-01,  4.0147e-01, -1.2561e-02, ...,  7.0374e-01,\n",
      "         5.7591e-01,  4.3506e-01],\n",
      "       [ 5.5025e-01, -2.4942e-01, -9.3860e-04, ...,  3.3763e-01,\n",
      "         5.0139e-02,  3.3465e-01],\n",
      "       ...,\n",
      "       [ 6.9917e-01,  6.4303e-01, -1.4390e+00, ...,  2.4632e-01,\n",
      "         5.2126e-01,  1.1655e-01],\n",
      "       [ 6.2583e-01, -5.7703e-01,  4.1163e-01, ...,  2.1582e-01,\n",
      "        -1.5586e-01,  6.4018e-01],\n",
      "       [ 2.3693e-02,  1.3316e-01,  2.3131e-02, ...,  3.4585e-01,\n",
      "         2.4201e-01,  8.2237e-01]])), (123, array([[ 0.27691 ,  0.28745 , -0.29935 , ..., -0.09482 , -0.2125  ,\n",
      "         0.022074],\n",
      "       [ 0.42079 , -0.12738 ,  0.36681 , ..., -0.2593  , -0.023835,\n",
      "         0.52329 ],\n",
      "       [ 0.18019 ,  1.027   ,  0.81943 , ..., -0.24567 ,  1.217   ,\n",
      "        -0.074161],\n",
      "       ...,\n",
      "       [ 1.0802  ,  0.085736,  0.28167 , ...,  0.062295,  0.16278 ,\n",
      "         0.17376 ],\n",
      "       [ 0.75068 ,  0.053127,  0.054627, ...,  0.97436 ,  0.27401 ,\n",
      "         0.10775 ],\n",
      "       [ 0.28328 ,  0.12887 ,  0.29861 , ...,  0.15273 , -0.13088 ,\n",
      "         0.89397 ]])), (64, array([[-0.38155  ,  0.21448  , -0.33124  , ...,  1.2357   , -0.16794  ,\n",
      "        -0.069801 ],\n",
      "       [ 0.18019  ,  1.027    ,  0.81943  , ..., -0.24567  ,  1.217    ,\n",
      "        -0.074161 ],\n",
      "       [ 0.62583  , -0.57703  ,  0.41163  , ...,  0.21582  , -0.15586  ,\n",
      "         0.64018  ],\n",
      "       ...,\n",
      "       [ 0.7172   , -0.50492  ,  0.21984  , ...,  0.15996  ,  0.10173  ,\n",
      "        -0.22334  ],\n",
      "       [-0.20343  , -0.045235 ,  0.23346  , ...,  0.78093  ,  0.0046384,\n",
      "         1.3011   ],\n",
      "       [ 0.79797  ,  0.1941   ,  0.15859  , ...,  0.22642  ,  1.2958   ,\n",
      "        -0.13744  ]])), (116, array([[-0.80924  , -0.030977 ,  0.5102   , ...,  0.05493  , -0.18114  ,\n",
      "         1.4094   ],\n",
      "       [ 0.0016675, -0.16376  , -0.092648 , ..., -0.024906 , -0.069572 ,\n",
      "         1.1343   ],\n",
      "       [ 0.0016675, -0.16376  , -0.092648 , ..., -0.024906 , -0.069572 ,\n",
      "         1.1343   ],\n",
      "       ...,\n",
      "       [ 0.4355   , -0.18377  , -0.70186  , ...,  0.024979 , -0.0030427,\n",
      "         0.11946  ],\n",
      "       [-0.11835  ,  0.0033341,  0.92659  , ...,  0.023563 ,  0.077982 ,\n",
      "        -0.30128  ],\n",
      "       [ 0.53507  ,  0.5761   , -0.054351 , ..., -0.78654  ,  0.61563  ,\n",
      "        -0.95478  ]])), (62, array([[ 0.27691 ,  0.28745 , -0.29935 , ..., -0.09482 , -0.2125  ,\n",
      "         0.022074],\n",
      "       [ 0.28328 ,  0.12887 ,  0.29861 , ...,  0.15273 , -0.13088 ,\n",
      "         0.89397 ],\n",
      "       [ 0.31474 ,  0.41662 ,  0.1348  , ..., -0.20526 ,  0.07009 ,\n",
      "        -0.11568 ],\n",
      "       ...,\n",
      "       [-0.92673 , -0.26836 , -0.62567 , ...,  0.78049 ,  1.2287  ,\n",
      "        -0.011494],\n",
      "       [ 1.1182  , -0.25381 , -0.016499, ...,  1.1159  ,  0.22771 ,\n",
      "        -0.93075 ],\n",
      "       [ 0.28328 ,  0.12887 ,  0.29861 , ...,  0.15273 , -0.13088 ,\n",
      "         0.89397 ]])), (103, array([[ 0.27691 ,  0.28745 , -0.29935 , ..., -0.09482 , -0.2125  ,\n",
      "         0.022074],\n",
      "       [ 0.28328 ,  0.12887 ,  0.29861 , ...,  0.15273 , -0.13088 ,\n",
      "         0.89397 ],\n",
      "       [ 0.18019 ,  1.027   ,  0.81943 , ..., -0.24567 ,  1.217   ,\n",
      "        -0.074161],\n",
      "       ...,\n",
      "       [-0.12318 ,  0.33984 ,  0.85825 , ...,  0.62596 ,  0.27204 ,\n",
      "        -0.15836 ],\n",
      "       [ 0.70055 , -0.24096 , -0.3338  , ...,  0.29408 ,  0.17447 ,\n",
      "         0.15313 ],\n",
      "       [ 0.49832 ,  0.067887,  0.3148  , ...,  0.40092 , -0.17774 ,\n",
      "         0.070943]])), (74, array([[ 2.8381e-01,  1.0405e+00, -5.7754e-01, ..., -1.6390e+00,\n",
      "         1.2366e-01, -8.2428e-02],\n",
      "       [ 4.2079e-01, -1.2738e-01,  3.6681e-01, ..., -2.5930e-01,\n",
      "        -2.3835e-02,  5.2329e-01],\n",
      "       [-1.9102e-01,  4.9471e-01, -4.9737e-01, ...,  6.4546e-02,\n",
      "        -3.1919e-01,  6.3697e-01],\n",
      "       ...,\n",
      "       [ 2.9281e-01,  3.1322e-01,  5.8541e-01, ...,  6.1608e-02,\n",
      "        -3.7181e-01, -6.6733e-01],\n",
      "       [ 4.6281e-01,  4.1144e-04,  3.2206e-01, ...,  6.1648e-01,\n",
      "        -2.3407e-01, -1.3272e-01],\n",
      "       [ 3.9533e-01, -6.4782e-03, -2.6112e-01, ...,  2.0346e-01,\n",
      "        -1.3682e-01,  7.9782e-01]])), (51, array([[-0.80924 , -0.030977,  0.5102  , ...,  0.05493 , -0.18114 ,\n",
      "         1.4094  ],\n",
      "       [ 0.27691 ,  0.28745 , -0.29935 , ..., -0.09482 , -0.2125  ,\n",
      "         0.022074],\n",
      "       [ 0.18019 ,  1.027   ,  0.81943 , ..., -0.24567 ,  1.217   ,\n",
      "        -0.074161],\n",
      "       ...,\n",
      "       [ 0.21473 , -0.12386 , -0.060734, ..., -1.0186  ,  0.2757  ,\n",
      "         0.035919],\n",
      "       [ 0.6081  ,  0.44372 , -0.63146 , ...,  0.2701  , -0.095481,\n",
      "         0.46032 ],\n",
      "       [-0.13943 ,  0.017151, -0.93222 , ..., -0.45469 , -0.010657,\n",
      "         1.074   ]])), (64, array([[-0.80924 , -0.030977,  0.5102  , ...,  0.05493 , -0.18114 ,\n",
      "         1.4094  ],\n",
      "       [ 0.27691 ,  0.28745 , -0.29935 , ..., -0.09482 , -0.2125  ,\n",
      "         0.022074],\n",
      "       [ 0.40246 ,  0.26077 , -0.063822, ...,  0.8504  ,  0.19413 ,\n",
      "         0.63789 ],\n",
      "       ...,\n",
      "       [ 0.66979 , -0.21748 ,  0.17075 , ...,  0.38201 , -0.043277,\n",
      "         0.95    ],\n",
      "       [ 0.13895 ,  0.30746 , -0.068323, ...,  0.059098,  0.15518 ,\n",
      "         1.2813  ],\n",
      "       [-0.11453 ,  0.73146 ,  0.11784 , ...,  0.15875 , -0.24113 ,\n",
      "         0.028179]])), (78, array([[-0.39834 ,  0.32317 ,  0.3631  , ...,  0.10655 ,  0.51869 ,\n",
      "         0.70703 ],\n",
      "       [ 0.27691 ,  0.28745 , -0.29935 , ..., -0.09482 , -0.2125  ,\n",
      "         0.022074],\n",
      "       [ 0.18019 ,  1.027   ,  0.81943 , ..., -0.24567 ,  1.217   ,\n",
      "        -0.074161],\n",
      "       ...,\n",
      "       [ 0.13889 , -0.15441 , -0.65196 , ...,  0.082915,  0.047064,\n",
      "         0.20868 ],\n",
      "       [ 0.7619  , -0.29773 ,  0.51396 , ...,  0.43088 , -0.22768 ,\n",
      "         0.4026  ],\n",
      "       [ 0.65058 , -0.11395 ,  0.55927 , ...,  1.1873  ,  0.08481 ,\n",
      "         0.12509 ]]))]\n"
     ]
    }
   ],
   "source": [
    "X_filtered, y_filtered= filter_df(X, encoded_df)"
   ]
  },
  {
   "cell_type": "code",
   "execution_count": 38,
   "id": "16ece66e-67a0-435f-9ca5-f7aa89f82378",
   "metadata": {},
   "outputs": [
    {
     "data": {
      "text/html": [
       "<div>\n",
       "<style scoped>\n",
       "    .dataframe tbody tr th:only-of-type {\n",
       "        vertical-align: middle;\n",
       "    }\n",
       "\n",
       "    .dataframe tbody tr th {\n",
       "        vertical-align: top;\n",
       "    }\n",
       "\n",
       "    .dataframe thead th {\n",
       "        text-align: right;\n",
       "    }\n",
       "</style>\n",
       "<table border=\"1\" class=\"dataframe\">\n",
       "  <thead>\n",
       "    <tr style=\"text-align: right;\">\n",
       "      <th></th>\n",
       "      <th></th>\n",
       "      <th>\"</th>\n",
       "      <th>%</th>\n",
       "      <th>+</th>\n",
       "      <th>aa</th>\n",
       "      <th>aa,ar</th>\n",
       "      <th>aap</th>\n",
       "      <th>ad</th>\n",
       "      <th>am</th>\n",
       "      <th>ar</th>\n",
       "      <th>...</th>\n",
       "      <th>qrr</th>\n",
       "      <th>qw</th>\n",
       "      <th>qy</th>\n",
       "      <th>sd</th>\n",
       "      <th>sd,qy</th>\n",
       "      <th>sd,sv</th>\n",
       "      <th>sv</th>\n",
       "      <th>t1</th>\n",
       "      <th>t3</th>\n",
       "      <th>x</th>\n",
       "    </tr>\n",
       "  </thead>\n",
       "  <tbody>\n",
       "    <tr>\n",
       "      <th>0</th>\n",
       "      <td>0</td>\n",
       "      <td>0</td>\n",
       "      <td>0</td>\n",
       "      <td>0</td>\n",
       "      <td>0</td>\n",
       "      <td>0</td>\n",
       "      <td>0</td>\n",
       "      <td>0</td>\n",
       "      <td>0</td>\n",
       "      <td>0</td>\n",
       "      <td>...</td>\n",
       "      <td>0</td>\n",
       "      <td>1</td>\n",
       "      <td>0</td>\n",
       "      <td>0</td>\n",
       "      <td>0</td>\n",
       "      <td>0</td>\n",
       "      <td>0</td>\n",
       "      <td>0</td>\n",
       "      <td>0</td>\n",
       "      <td>0</td>\n",
       "    </tr>\n",
       "    <tr>\n",
       "      <th>1</th>\n",
       "      <td>0</td>\n",
       "      <td>0</td>\n",
       "      <td>0</td>\n",
       "      <td>0</td>\n",
       "      <td>0</td>\n",
       "      <td>0</td>\n",
       "      <td>0</td>\n",
       "      <td>0</td>\n",
       "      <td>0</td>\n",
       "      <td>0</td>\n",
       "      <td>...</td>\n",
       "      <td>0</td>\n",
       "      <td>0</td>\n",
       "      <td>1</td>\n",
       "      <td>0</td>\n",
       "      <td>0</td>\n",
       "      <td>0</td>\n",
       "      <td>0</td>\n",
       "      <td>0</td>\n",
       "      <td>0</td>\n",
       "      <td>0</td>\n",
       "    </tr>\n",
       "    <tr>\n",
       "      <th>2</th>\n",
       "      <td>0</td>\n",
       "      <td>0</td>\n",
       "      <td>0</td>\n",
       "      <td>0</td>\n",
       "      <td>0</td>\n",
       "      <td>0</td>\n",
       "      <td>0</td>\n",
       "      <td>0</td>\n",
       "      <td>0</td>\n",
       "      <td>0</td>\n",
       "      <td>...</td>\n",
       "      <td>0</td>\n",
       "      <td>0</td>\n",
       "      <td>1</td>\n",
       "      <td>0</td>\n",
       "      <td>0</td>\n",
       "      <td>0</td>\n",
       "      <td>0</td>\n",
       "      <td>0</td>\n",
       "      <td>0</td>\n",
       "      <td>0</td>\n",
       "    </tr>\n",
       "    <tr>\n",
       "      <th>3</th>\n",
       "      <td>0</td>\n",
       "      <td>0</td>\n",
       "      <td>0</td>\n",
       "      <td>0</td>\n",
       "      <td>0</td>\n",
       "      <td>0</td>\n",
       "      <td>0</td>\n",
       "      <td>1</td>\n",
       "      <td>0</td>\n",
       "      <td>0</td>\n",
       "      <td>...</td>\n",
       "      <td>0</td>\n",
       "      <td>0</td>\n",
       "      <td>0</td>\n",
       "      <td>1</td>\n",
       "      <td>0</td>\n",
       "      <td>0</td>\n",
       "      <td>0</td>\n",
       "      <td>0</td>\n",
       "      <td>0</td>\n",
       "      <td>0</td>\n",
       "    </tr>\n",
       "    <tr>\n",
       "      <th>4</th>\n",
       "      <td>0</td>\n",
       "      <td>0</td>\n",
       "      <td>0</td>\n",
       "      <td>0</td>\n",
       "      <td>1</td>\n",
       "      <td>0</td>\n",
       "      <td>0</td>\n",
       "      <td>0</td>\n",
       "      <td>0</td>\n",
       "      <td>0</td>\n",
       "      <td>...</td>\n",
       "      <td>0</td>\n",
       "      <td>0</td>\n",
       "      <td>1</td>\n",
       "      <td>0</td>\n",
       "      <td>0</td>\n",
       "      <td>0</td>\n",
       "      <td>0</td>\n",
       "      <td>0</td>\n",
       "      <td>0</td>\n",
       "      <td>0</td>\n",
       "    </tr>\n",
       "  </tbody>\n",
       "</table>\n",
       "<p>5 rows × 53 columns</p>\n",
       "</div>"
      ],
      "text/plain": [
       "      \"  %  +  aa  aa,ar  aap  ad  am  ar  ...  qrr  qw  qy  sd  sd,qy  sd,sv  \\\n",
       "0  0  0  0  0   0      0    0   0   0   0  ...    0   1   0   0      0      0   \n",
       "1  0  0  0  0   0      0    0   0   0   0  ...    0   0   1   0      0      0   \n",
       "2  0  0  0  0   0      0    0   0   0   0  ...    0   0   1   0      0      0   \n",
       "3  0  0  0  0   0      0    0   1   0   0  ...    0   0   0   1      0      0   \n",
       "4  0  0  0  0   1      0    0   0   0   0  ...    0   0   1   0      0      0   \n",
       "\n",
       "   sv  t1  t3  x  \n",
       "0   0   0   0  0  \n",
       "1   0   0   0  0  \n",
       "2   0   0   0  0  \n",
       "3   0   0   0  0  \n",
       "4   0   0   0  0  \n",
       "\n",
       "[5 rows x 53 columns]"
      ]
     },
     "execution_count": 38,
     "metadata": {},
     "output_type": "execute_result"
    }
   ],
   "source": [
    "y_filtered=pd.DataFrame(y_filtered, columns=encoded_df.columns)\n",
    "y_filtered.head()"
   ]
  },
  {
   "cell_type": "code",
   "execution_count": 39,
   "id": "71cb3a76-c98c-4ce1-a5a2-35165e2638ab",
   "metadata": {},
   "outputs": [],
   "source": [
    "import tqdm\n",
    "def pad_X(X, batch_size=32, desired_sequence_length=50):\n",
    "    padded_X = []\n",
    "    for batch in tqdm.tqdm(range(0, len(X), batch_size), desc=\"Padding batches\", unit=\"batch\"):\n",
    "        batch_X = X[batch:batch+batch_size]\n",
    "        batch_padded = [np.pad(x, ((0, desired_sequence_length - x.shape[0]), (0, 0)), mode='constant') for x in batch_X]\n",
    "        padded_X.extend(batch_padded)\n",
    "    return np.array(padded_X).astype(float)"
   ]
  },
  {
   "cell_type": "code",
   "execution_count": 40,
   "id": "c74cdd81-f1f6-457b-81bf-cc673ed6f112",
   "metadata": {},
   "outputs": [
    {
     "name": "stderr",
     "output_type": "stream",
     "text": [
      "Padding batches: 100%|████████████████████████████████████████████████████████████████████████████████| 1324/1324 [00:03<00:00, 406.79batch/s]\n"
     ]
    },
    {
     "data": {
      "text/plain": [
       "(42363, 50, 50)"
      ]
     },
     "execution_count": 40,
     "metadata": {},
     "output_type": "execute_result"
    }
   ],
   "source": [
    "X_train = pad_X(X_filtered)\n",
    "X_train.shape"
   ]
  },
  {
   "cell_type": "code",
   "execution_count": 41,
   "id": "08c1e05a-841a-4294-bb86-049167fecf91",
   "metadata": {},
   "outputs": [
    {
     "data": {
      "text/plain": [
       "(42363, 50, 50)"
      ]
     },
     "execution_count": 41,
     "metadata": {},
     "output_type": "execute_result"
    }
   ],
   "source": [
    "X_train.shape"
   ]
  },
  {
   "cell_type": "code",
   "execution_count": 42,
   "id": "59750219-f0f5-435e-a380-5373313748e8",
   "metadata": {},
   "outputs": [],
   "source": [
    "def filter_desired_dialogue_acts(X, encoded_df, desired_dialogue_acts=desired_dialogue_acts):\n",
    "    \n",
    "    filtered_columns = [col for col in encoded_df.columns if col in desired_dialogue_acts]\n",
    "    encoded_df_filtered = encoded_df[filtered_columns]\n",
    "    print(encoded_df_filtered.head())\n",
    "    print(\"Filtered DA:-\",len(filtered_columns))\n",
    "    mask = encoded_df_filtered.any(axis=1)\n",
    "    print(mask)\n",
    "    X_filtered = X[mask]\n",
    "    encoded_df_filtered = encoded_df_filtered[mask]\n",
    "\n",
    "    return X_filtered, encoded_df_filtered"
   ]
  },
  {
   "cell_type": "code",
   "execution_count": 43,
   "id": "6cbc04af-d80a-4d66-b2f3-b2b32a87029b",
   "metadata": {},
   "outputs": [
    {
     "name": "stdout",
     "output_type": "stream",
     "text": [
      "   %  +  aa  b  ba  bf  fc  h  nn  ny  qw  qy  sd  sv\n",
      "0  0  0   0  0   0   0   0  0   0   0   1   0   0   0\n",
      "1  0  0   0  0   0   0   0  0   0   0   0   1   0   0\n",
      "2  0  0   0  0   0   0   0  0   0   0   0   1   0   0\n",
      "3  0  0   0  0   0   0   0  1   0   0   0   0   1   0\n",
      "4  0  0   1  0   0   0   0  0   0   0   0   1   0   0\n",
      "Filtered DA:- 14\n",
      "0        True\n",
      "1        True\n",
      "2        True\n",
      "3        True\n",
      "4        True\n",
      "         ... \n",
      "42358    True\n",
      "42359    True\n",
      "42360    True\n",
      "42361    True\n",
      "42362    True\n",
      "Length: 42363, dtype: bool\n"
     ]
    }
   ],
   "source": [
    "X_f, y_f=filter_desired_dialogue_acts(X_train, y_filtered)"
   ]
  },
  {
   "cell_type": "code",
   "execution_count": 44,
   "id": "c3b66760-9105-49d6-b80a-c9caa897a7ff",
   "metadata": {},
   "outputs": [
    {
     "data": {
      "text/plain": [
       "(40766, 50, 50)"
      ]
     },
     "execution_count": 44,
     "metadata": {},
     "output_type": "execute_result"
    }
   ],
   "source": [
    "X_f.shape"
   ]
  },
  {
   "cell_type": "code",
   "execution_count": 45,
   "id": "13ff5d3b-9fc3-4345-bd68-daf1cae63c73",
   "metadata": {},
   "outputs": [
    {
     "data": {
      "text/plain": [
       "(40766, 14)"
      ]
     },
     "execution_count": 45,
     "metadata": {},
     "output_type": "execute_result"
    }
   ],
   "source": [
    "y_f.shape"
   ]
  },
  {
   "cell_type": "code",
   "execution_count": 46,
   "id": "3590035b-a77f-4a03-a7f5-3b5684b84d5b",
   "metadata": {},
   "outputs": [
    {
     "data": {
      "text/html": [
       "<div>\n",
       "<style scoped>\n",
       "    .dataframe tbody tr th:only-of-type {\n",
       "        vertical-align: middle;\n",
       "    }\n",
       "\n",
       "    .dataframe tbody tr th {\n",
       "        vertical-align: top;\n",
       "    }\n",
       "\n",
       "    .dataframe thead th {\n",
       "        text-align: right;\n",
       "    }\n",
       "</style>\n",
       "<table border=\"1\" class=\"dataframe\">\n",
       "  <thead>\n",
       "    <tr style=\"text-align: right;\">\n",
       "      <th></th>\n",
       "      <th>%</th>\n",
       "      <th>+</th>\n",
       "      <th>aa</th>\n",
       "      <th>b</th>\n",
       "      <th>ba</th>\n",
       "      <th>bf</th>\n",
       "      <th>fc</th>\n",
       "      <th>h</th>\n",
       "      <th>nn</th>\n",
       "      <th>ny</th>\n",
       "      <th>qw</th>\n",
       "      <th>qy</th>\n",
       "      <th>sd</th>\n",
       "      <th>sv</th>\n",
       "    </tr>\n",
       "  </thead>\n",
       "  <tbody>\n",
       "    <tr>\n",
       "      <th>0</th>\n",
       "      <td>0</td>\n",
       "      <td>0</td>\n",
       "      <td>0</td>\n",
       "      <td>0</td>\n",
       "      <td>0</td>\n",
       "      <td>0</td>\n",
       "      <td>0</td>\n",
       "      <td>0</td>\n",
       "      <td>0</td>\n",
       "      <td>0</td>\n",
       "      <td>1</td>\n",
       "      <td>0</td>\n",
       "      <td>0</td>\n",
       "      <td>0</td>\n",
       "    </tr>\n",
       "    <tr>\n",
       "      <th>1</th>\n",
       "      <td>0</td>\n",
       "      <td>0</td>\n",
       "      <td>0</td>\n",
       "      <td>0</td>\n",
       "      <td>0</td>\n",
       "      <td>0</td>\n",
       "      <td>0</td>\n",
       "      <td>0</td>\n",
       "      <td>0</td>\n",
       "      <td>0</td>\n",
       "      <td>0</td>\n",
       "      <td>1</td>\n",
       "      <td>0</td>\n",
       "      <td>0</td>\n",
       "    </tr>\n",
       "    <tr>\n",
       "      <th>2</th>\n",
       "      <td>0</td>\n",
       "      <td>0</td>\n",
       "      <td>0</td>\n",
       "      <td>0</td>\n",
       "      <td>0</td>\n",
       "      <td>0</td>\n",
       "      <td>0</td>\n",
       "      <td>0</td>\n",
       "      <td>0</td>\n",
       "      <td>0</td>\n",
       "      <td>0</td>\n",
       "      <td>1</td>\n",
       "      <td>0</td>\n",
       "      <td>0</td>\n",
       "    </tr>\n",
       "    <tr>\n",
       "      <th>3</th>\n",
       "      <td>0</td>\n",
       "      <td>0</td>\n",
       "      <td>0</td>\n",
       "      <td>0</td>\n",
       "      <td>0</td>\n",
       "      <td>0</td>\n",
       "      <td>0</td>\n",
       "      <td>1</td>\n",
       "      <td>0</td>\n",
       "      <td>0</td>\n",
       "      <td>0</td>\n",
       "      <td>0</td>\n",
       "      <td>1</td>\n",
       "      <td>0</td>\n",
       "    </tr>\n",
       "    <tr>\n",
       "      <th>4</th>\n",
       "      <td>0</td>\n",
       "      <td>0</td>\n",
       "      <td>1</td>\n",
       "      <td>0</td>\n",
       "      <td>0</td>\n",
       "      <td>0</td>\n",
       "      <td>0</td>\n",
       "      <td>0</td>\n",
       "      <td>0</td>\n",
       "      <td>0</td>\n",
       "      <td>0</td>\n",
       "      <td>1</td>\n",
       "      <td>0</td>\n",
       "      <td>0</td>\n",
       "    </tr>\n",
       "  </tbody>\n",
       "</table>\n",
       "</div>"
      ],
      "text/plain": [
       "   %  +  aa  b  ba  bf  fc  h  nn  ny  qw  qy  sd  sv\n",
       "0  0  0   0  0   0   0   0  0   0   0   1   0   0   0\n",
       "1  0  0   0  0   0   0   0  0   0   0   0   1   0   0\n",
       "2  0  0   0  0   0   0   0  0   0   0   0   1   0   0\n",
       "3  0  0   0  0   0   0   0  1   0   0   0   0   1   0\n",
       "4  0  0   1  0   0   0   0  0   0   0   0   1   0   0"
      ]
     },
     "execution_count": 46,
     "metadata": {},
     "output_type": "execute_result"
    }
   ],
   "source": [
    "y_f.head()"
   ]
  },
  {
   "cell_type": "code",
   "execution_count": 47,
   "id": "eb805b3a-1e2e-469b-892a-1d1969611c05",
   "metadata": {},
   "outputs": [],
   "source": [
    "label_counts = y_f.sum(axis=0)\n",
    "\n",
    "# Sort labels by count (descending order for better visualization)\n",
    "sorted_labels = label_counts.sort_values(ascending=False)"
   ]
  },
  {
   "cell_type": "code",
   "execution_count": 48,
   "id": "f8e50346-c334-4663-91eb-3762a51c3ae4",
   "metadata": {},
   "outputs": [
    {
     "data": {
      "image/png": "[encoded data removed]",
      "text/plain": [
       "<Figure size 800x600 with 1 Axes>"
      ]
     },
     "metadata": {},
     "output_type": "display_data"
    }
   ],
   "source": [
    "plt.figure(figsize=(8, 6))  # Adjust figure size as needed\n",
    "plt.pie(sorted_labels, labels=sorted_labels.index, autopct=\"%1.1f%%\")\n",
    "plt.title(\"Distribution of Labels (Pie Chart)\")\n",
    "plt.show()"
   ]
  },
  {
   "cell_type": "markdown",
   "id": "fa1cc4b9-b656-46e5-bdaf-c576f445ef61",
   "metadata": {},
   "source": [
    "# Model Training"
   ]
  },
  {
   "cell_type": "code",
   "execution_count": 49,
   "id": "47df3307-b03c-420b-a6ab-19b3d6144e40",
   "metadata": {},
   "outputs": [],
   "source": [
    "import tensorflow as tf\n",
    "from tensorflow.keras.models import Model\n",
    "from tensorflow.keras.layers import Input, LSTM, Bidirectional, Dense, GlobalAveragePooling1D, Dropout, BatchNormalization,Attention, LeakyReLU\n",
    "from tensorflow.keras.optimizers import Adam\n",
    "from tensorflow.keras.metrics import AUC, Precision, Recall, F1Score\n",
    "from tensorflow.keras.callbacks import ModelCheckpoint ,ReduceLROnPlateau, EarlyStopping\n",
    "\n",
    "cp = ModelCheckpoint('model/best_model.keras', save_best_only=True)\n",
    "# early_stopping = EarlyStopping(monitor='val_hamming_loss', patience=15, mode='min', restore_best_weights=True)\n",
    "reduce_lr_callback = ReduceLROnPlateau(monitor='val_hamming_loss', factor=0.1, patience=10, min_lr=0.00001, mode='min', verbose=1)\n",
    "callbacks = [cp, reduce_lr_callback]"
   ]
  },
  {
   "cell_type": "code",
   "execution_count": 50,
   "id": "7b3551ed-6e70-4f75-8611-da5fa9833e10",
   "metadata": {},
   "outputs": [],
   "source": [
    "def hamming_loss(y_true, y_pred):\n",
    "    y_true = tf.cast(y_true, tf.float32)\n",
    "    y_pred = tf.round(y_pred)\n",
    "    tmp = tf.not_equal(y_true, y_pred)\n",
    "    hamming_loss = tf.reduce_mean(tf.cast(tmp, tf.float32))\n",
    "    return hamming_loss"
   ]
  },
  {
   "cell_type": "code",
   "execution_count": 51,
   "id": "989fb3f0-9860-4bff-b656-6af4ff69e327",
   "metadata": {},
   "outputs": [
    {
     "data": {
      "text/plain": [
       "(40766, 14)"
      ]
     },
     "execution_count": 51,
     "metadata": {},
     "output_type": "execute_result"
    }
   ],
   "source": [
    "y_f.shape"
   ]
  },
  {
   "cell_type": "code",
   "execution_count": 188,
   "id": "ab0f2907-3497-494d-bf08-609e93e564fb",
   "metadata": {},
   "outputs": [],
   "source": [
    "def hamming_score(y_true, y_pred):\n",
    "    # y_pred=y_pred.to_numpy()\n",
    "    temp = 0\n",
    "    for i in range(y_true.shape[1]):\n",
    "        temp += sum(np.logical_and(y_true[:,i], y_pred[:,i])) / sum(np.logical_or(y_true[:,i], y_pred[:,i]))\n",
    "    return temp / y_true.shape[1]"
   ]
  },
  {
   "cell_type": "code",
   "execution_count": 59,
   "id": "c274387f-9b71-4ea7-9dc3-cbe0db961893",
   "metadata": {},
   "outputs": [],
   "source": [
    "input_layer = Input(shape=(X_f.shape[1], X_f.shape[2]))\n",
    "\n",
    "bi_lstm_layer1 = Bidirectional(LSTM(108, return_sequences=True, kernel_regularizer='l2'))(input_layer)\n",
    "dropout_layer1 = Dropout(0.5)(bi_lstm_layer1)\n",
    "batch_norm_layer1 = BatchNormalization()(dropout_layer1)\n",
    "\n",
    "bi_lstm_layer2 = Bidirectional(LSTM(64, return_sequences=True, kernel_regularizer='l2'))(batch_norm_layer1)\n",
    "dropout_layer2 = Dropout(0.5)(bi_lstm_layer2)\n",
    "batch_norm_layer2 = BatchNormalization()(dropout_layer2)\n",
    "\n",
    "attention_layer = Attention()([batch_norm_layer2, batch_norm_layer2])\n",
    "global_avg_pooling = GlobalAveragePooling1D()(attention_layer)\n",
    "fc_1 = Dense(32, activation=\"relu\")(global_avg_pooling)\n",
    "# fc_1 = LeakyReLU()(fc_1)\n",
    "fc_2 = Dense(32, activation=\"relu\")(fc_1)\n",
    "# fc_2 = LeakyReLU()(fc_2)\n",
    "output_layer = Dense(14, activation='softmax')(fc_2)"
   ]
  },
  {
   "cell_type": "code",
   "execution_count": 60,
   "id": "6a89edbb-aa6e-49ab-a5f2-28395c34f6ea",
   "metadata": {},
   "outputs": [],
   "source": [
    "model = Model(inputs=input_layer, outputs=output_layer)"
   ]
  },
  {
   "cell_type": "code",
   "execution_count": 61,
   "id": "567b1b19-1452-470e-b958-5cd5a9faa520",
   "metadata": {},
   "outputs": [
    {
     "data": {
      "text/plain": [
       "{0: 2.422222222222222,\n",
       " 1: 3.9982346018046293,\n",
       " 2: 3.4494838382128954,\n",
       " 3: 2.3946193609022557,\n",
       " 4: 7.532520325203252,\n",
       " 5: 24.179122182680903,\n",
       " 6: 20.464859437751002,\n",
       " 7: 22.748883928571427,\n",
       " 8: 22.131378935939196,\n",
       " 9: 12.991077119184194,\n",
       " 10: 10.994066882416398,\n",
       " 11: 4.240274599542334,\n",
       " 12: 0.9018228475356164,\n",
       " 13: 1.6282952548330405}"
      ]
     },
     "execution_count": 61,
     "metadata": {},
     "output_type": "execute_result"
    }
   ],
   "source": [
    "from sklearn.utils.class_weight import compute_class_weight\n",
    "\n",
    "class_weight_dict = {}\n",
    "for i in range(y_f.shape[1]):\n",
    "    class_weights = compute_class_weight('balanced', classes=np.unique(y_f.iloc[:, i].values), y=y_f.iloc[:, i].values)\n",
    "    class_weight_dict[i] = class_weights[1]\n",
    "    \n",
    "class_weight_dict"
   ]
  },
  {
   "cell_type": "code",
   "execution_count": 62,
   "id": "f3d421d3-dfa2-4a40-95bf-fbe8ebdb66f7",
   "metadata": {},
   "outputs": [
    {
     "data": {
      "text/plain": [
       "<tf.Tensor: shape=(14,), dtype=float64, numpy=\n",
       "array([ 2.42222222,  3.9982346 ,  3.44948384,  2.39461936,  7.53252033,\n",
       "       24.17912218, 20.46485944, 22.74888393, 22.13137894, 12.99107712,\n",
       "       10.99406688,  4.2402746 ,  0.90182285,  1.62829525])>"
      ]
     },
     "execution_count": 62,
     "metadata": {},
     "output_type": "execute_result"
    }
   ],
   "source": [
    "weights=tf.constant(list(class_weight_dict.values()))\n",
    "weights"
   ]
  },
  {
   "cell_type": "code",
   "execution_count": 63,
   "id": "f7c7ceb6-af68-4c26-9fbb-9937319dcbb3",
   "metadata": {},
   "outputs": [],
   "source": [
    "# loss_fn = tf.nn.weighted_cross_entropy_with_logits(y_true,y_pred,pos_weight=weights)"
   ]
  },
  {
   "cell_type": "code",
   "execution_count": 64,
   "id": "025b618c-313f-433d-b4f5-07957cf8457c",
   "metadata": {},
   "outputs": [],
   "source": [
    "model.compile(loss='binary_crossentropy', \n",
    "              optimizer=Adam(learning_rate=0.001), \n",
    "              metrics=[hamming_loss, Precision(), Recall(), F1Score(average='weighted')])"
   ]
  },
  {
   "cell_type": "code",
   "execution_count": 65,
   "id": "b8247c24-cc36-42f1-8aff-24c5fd80d6bf",
   "metadata": {},
   "outputs": [
    {
     "data": {
      "text/html": [
       "<pre style=\"white-space:pre;overflow-x:auto;line-height:normal;font-family:Menlo,'DejaVu Sans Mono',consolas,'Courier New',monospace\"><span style=\"font-weight: bold\">Model: \"functional_3\"</span>\n",
       "</pre>\n"
      ],
      "text/plain": [
       "\u001b[1mModel: \"functional_3\"\u001b[0m\n"
      ]
     },
     "metadata": {},
     "output_type": "display_data"
    },
    {
     "data": {
      "text/html": [
       "<pre style=\"white-space:pre;overflow-x:auto;line-height:normal;font-family:Menlo,'DejaVu Sans Mono',consolas,'Courier New',monospace\">┏━━━━━━━━━━━━━━━━━━━━━━━━━━━━━━━┳━━━━━━━━━━━━━━━━━━━━━━━━━━━┳━━━━━━━━━━━━━━━━━┳━━━━━━━━━━━━━━━━━━━━━━━━━━━━┓\n",
       "┃<span style=\"font-weight: bold\"> Layer (type)                  </span>┃<span style=\"font-weight: bold\"> Output Shape              </span>┃<span style=\"font-weight: bold\">         Param # </span>┃<span style=\"font-weight: bold\"> Connected to               </span>┃\n",
       "┡━━━━━━━━━━━━━━━━━━━━━━━━━━━━━━━╇━━━━━━━━━━━━━━━━━━━━━━━━━━━╇━━━━━━━━━━━━━━━━━╇━━━━━━━━━━━━━━━━━━━━━━━━━━━━┩\n",
       "│ input_layer_1 (<span style=\"color: #0087ff; text-decoration-color: #0087ff\">InputLayer</span>)    │ (<span style=\"color: #00d7ff; text-decoration-color: #00d7ff\">None</span>, <span style=\"color: #00af00; text-decoration-color: #00af00\">50</span>, <span style=\"color: #00af00; text-decoration-color: #00af00\">50</span>)            │               <span style=\"color: #00af00; text-decoration-color: #00af00\">0</span> │ -                          │\n",
       "├───────────────────────────────┼───────────────────────────┼─────────────────┼────────────────────────────┤\n",
       "│ bidirectional_2               │ (<span style=\"color: #00d7ff; text-decoration-color: #00d7ff\">None</span>, <span style=\"color: #00af00; text-decoration-color: #00af00\">50</span>, <span style=\"color: #00af00; text-decoration-color: #00af00\">216</span>)           │         <span style=\"color: #00af00; text-decoration-color: #00af00\">137,376</span> │ input_layer_1[<span style=\"color: #00af00; text-decoration-color: #00af00\">0</span>][<span style=\"color: #00af00; text-decoration-color: #00af00\">0</span>]        │\n",
       "│ (<span style=\"color: #0087ff; text-decoration-color: #0087ff\">Bidirectional</span>)               │                           │                 │                            │\n",
       "├───────────────────────────────┼───────────────────────────┼─────────────────┼────────────────────────────┤\n",
       "│ dropout_2 (<span style=\"color: #0087ff; text-decoration-color: #0087ff\">Dropout</span>)           │ (<span style=\"color: #00d7ff; text-decoration-color: #00d7ff\">None</span>, <span style=\"color: #00af00; text-decoration-color: #00af00\">50</span>, <span style=\"color: #00af00; text-decoration-color: #00af00\">216</span>)           │               <span style=\"color: #00af00; text-decoration-color: #00af00\">0</span> │ bidirectional_2[<span style=\"color: #00af00; text-decoration-color: #00af00\">0</span>][<span style=\"color: #00af00; text-decoration-color: #00af00\">0</span>]      │\n",
       "├───────────────────────────────┼───────────────────────────┼─────────────────┼────────────────────────────┤\n",
       "│ batch_normalization_2         │ (<span style=\"color: #00d7ff; text-decoration-color: #00d7ff\">None</span>, <span style=\"color: #00af00; text-decoration-color: #00af00\">50</span>, <span style=\"color: #00af00; text-decoration-color: #00af00\">216</span>)           │             <span style=\"color: #00af00; text-decoration-color: #00af00\">864</span> │ dropout_2[<span style=\"color: #00af00; text-decoration-color: #00af00\">0</span>][<span style=\"color: #00af00; text-decoration-color: #00af00\">0</span>]            │\n",
       "│ (<span style=\"color: #0087ff; text-decoration-color: #0087ff\">BatchNormalization</span>)          │                           │                 │                            │\n",
       "├───────────────────────────────┼───────────────────────────┼─────────────────┼────────────────────────────┤\n",
       "│ bidirectional_3               │ (<span style=\"color: #00d7ff; text-decoration-color: #00d7ff\">None</span>, <span style=\"color: #00af00; text-decoration-color: #00af00\">50</span>, <span style=\"color: #00af00; text-decoration-color: #00af00\">128</span>)           │         <span style=\"color: #00af00; text-decoration-color: #00af00\">143,872</span> │ batch_normalization_2[<span style=\"color: #00af00; text-decoration-color: #00af00\">0</span>][<span style=\"color: #00af00; text-decoration-color: #00af00\">…</span> │\n",
       "│ (<span style=\"color: #0087ff; text-decoration-color: #0087ff\">Bidirectional</span>)               │                           │                 │                            │\n",
       "├───────────────────────────────┼───────────────────────────┼─────────────────┼────────────────────────────┤\n",
       "│ dropout_3 (<span style=\"color: #0087ff; text-decoration-color: #0087ff\">Dropout</span>)           │ (<span style=\"color: #00d7ff; text-decoration-color: #00d7ff\">None</span>, <span style=\"color: #00af00; text-decoration-color: #00af00\">50</span>, <span style=\"color: #00af00; text-decoration-color: #00af00\">128</span>)           │               <span style=\"color: #00af00; text-decoration-color: #00af00\">0</span> │ bidirectional_3[<span style=\"color: #00af00; text-decoration-color: #00af00\">0</span>][<span style=\"color: #00af00; text-decoration-color: #00af00\">0</span>]      │\n",
       "├───────────────────────────────┼───────────────────────────┼─────────────────┼────────────────────────────┤\n",
       "│ batch_normalization_3         │ (<span style=\"color: #00d7ff; text-decoration-color: #00d7ff\">None</span>, <span style=\"color: #00af00; text-decoration-color: #00af00\">50</span>, <span style=\"color: #00af00; text-decoration-color: #00af00\">128</span>)           │             <span style=\"color: #00af00; text-decoration-color: #00af00\">512</span> │ dropout_3[<span style=\"color: #00af00; text-decoration-color: #00af00\">0</span>][<span style=\"color: #00af00; text-decoration-color: #00af00\">0</span>]            │\n",
       "│ (<span style=\"color: #0087ff; text-decoration-color: #0087ff\">BatchNormalization</span>)          │                           │                 │                            │\n",
       "├───────────────────────────────┼───────────────────────────┼─────────────────┼────────────────────────────┤\n",
       "│ attention_1 (<span style=\"color: #0087ff; text-decoration-color: #0087ff\">Attention</span>)       │ (<span style=\"color: #00d7ff; text-decoration-color: #00d7ff\">None</span>, <span style=\"color: #00af00; text-decoration-color: #00af00\">50</span>, <span style=\"color: #00af00; text-decoration-color: #00af00\">128</span>)           │               <span style=\"color: #00af00; text-decoration-color: #00af00\">0</span> │ batch_normalization_3[<span style=\"color: #00af00; text-decoration-color: #00af00\">0</span>][<span style=\"color: #00af00; text-decoration-color: #00af00\">…</span> │\n",
       "│                               │                           │                 │ batch_normalization_3[<span style=\"color: #00af00; text-decoration-color: #00af00\">0</span>][<span style=\"color: #00af00; text-decoration-color: #00af00\">…</span> │\n",
       "├───────────────────────────────┼───────────────────────────┼─────────────────┼────────────────────────────┤\n",
       "│ global_average_pooling1d_1    │ (<span style=\"color: #00d7ff; text-decoration-color: #00d7ff\">None</span>, <span style=\"color: #00af00; text-decoration-color: #00af00\">128</span>)               │               <span style=\"color: #00af00; text-decoration-color: #00af00\">0</span> │ attention_1[<span style=\"color: #00af00; text-decoration-color: #00af00\">0</span>][<span style=\"color: #00af00; text-decoration-color: #00af00\">0</span>]          │\n",
       "│ (<span style=\"color: #0087ff; text-decoration-color: #0087ff\">GlobalAveragePooling1D</span>)      │                           │                 │                            │\n",
       "├───────────────────────────────┼───────────────────────────┼─────────────────┼────────────────────────────┤\n",
       "│ dense_3 (<span style=\"color: #0087ff; text-decoration-color: #0087ff\">Dense</span>)               │ (<span style=\"color: #00d7ff; text-decoration-color: #00d7ff\">None</span>, <span style=\"color: #00af00; text-decoration-color: #00af00\">32</span>)                │           <span style=\"color: #00af00; text-decoration-color: #00af00\">4,128</span> │ global_average_pooling1d_… │\n",
       "├───────────────────────────────┼───────────────────────────┼─────────────────┼────────────────────────────┤\n",
       "│ dense_4 (<span style=\"color: #0087ff; text-decoration-color: #0087ff\">Dense</span>)               │ (<span style=\"color: #00d7ff; text-decoration-color: #00d7ff\">None</span>, <span style=\"color: #00af00; text-decoration-color: #00af00\">32</span>)                │           <span style=\"color: #00af00; text-decoration-color: #00af00\">1,056</span> │ dense_3[<span style=\"color: #00af00; text-decoration-color: #00af00\">0</span>][<span style=\"color: #00af00; text-decoration-color: #00af00\">0</span>]              │\n",
       "├───────────────────────────────┼───────────────────────────┼─────────────────┼────────────────────────────┤\n",
       "│ dense_5 (<span style=\"color: #0087ff; text-decoration-color: #0087ff\">Dense</span>)               │ (<span style=\"color: #00d7ff; text-decoration-color: #00d7ff\">None</span>, <span style=\"color: #00af00; text-decoration-color: #00af00\">14</span>)                │             <span style=\"color: #00af00; text-decoration-color: #00af00\">462</span> │ dense_4[<span style=\"color: #00af00; text-decoration-color: #00af00\">0</span>][<span style=\"color: #00af00; text-decoration-color: #00af00\">0</span>]              │\n",
       "└───────────────────────────────┴───────────────────────────┴─────────────────┴────────────────────────────┘\n",
       "</pre>\n"
      ],
      "text/plain": [
       "┏━━━━━━━━━━━━━━━━━━━━━━━━━━━━━━━┳━━━━━━━━━━━━━━━━━━━━━━━━━━━┳━━━━━━━━━━━━━━━━━┳━━━━━━━━━━━━━━━━━━━━━━━━━━━━┓\n",
       "┃\u001b[1m \u001b[0m\u001b[1mLayer (type)                 \u001b[0m\u001b[1m \u001b[0m┃\u001b[1m \u001b[0m\u001b[1mOutput Shape             \u001b[0m\u001b[1m \u001b[0m┃\u001b[1m \u001b[0m\u001b[1m        Param #\u001b[0m\u001b[1m \u001b[0m┃\u001b[1m \u001b[0m\u001b[1mConnected to              \u001b[0m\u001b[1m \u001b[0m┃\n",
       "┡━━━━━━━━━━━━━━━━━━━━━━━━━━━━━━━╇━━━━━━━━━━━━━━━━━━━━━━━━━━━╇━━━━━━━━━━━━━━━━━╇━━━━━━━━━━━━━━━━━━━━━━━━━━━━┩\n",
       "│ input_layer_1 (\u001b[38;5;33mInputLayer\u001b[0m)    │ (\u001b[38;5;45mNone\u001b[0m, \u001b[38;5;34m50\u001b[0m, \u001b[38;5;34m50\u001b[0m)            │               \u001b[38;5;34m0\u001b[0m │ -                          │\n",
       "├───────────────────────────────┼───────────────────────────┼─────────────────┼────────────────────────────┤\n",
       "│ bidirectional_2               │ (\u001b[38;5;45mNone\u001b[0m, \u001b[38;5;34m50\u001b[0m, \u001b[38;5;34m216\u001b[0m)           │         \u001b[38;5;34m137,376\u001b[0m │ input_layer_1[\u001b[38;5;34m0\u001b[0m][\u001b[38;5;34m0\u001b[0m]        │\n",
       "│ (\u001b[38;5;33mBidirectional\u001b[0m)               │                           │                 │                            │\n",
       "├───────────────────────────────┼───────────────────────────┼─────────────────┼────────────────────────────┤\n",
       "│ dropout_2 (\u001b[38;5;33mDropout\u001b[0m)           │ (\u001b[38;5;45mNone\u001b[0m, \u001b[38;5;34m50\u001b[0m, \u001b[38;5;34m216\u001b[0m)           │               \u001b[38;5;34m0\u001b[0m │ bidirectional_2[\u001b[38;5;34m0\u001b[0m][\u001b[38;5;34m0\u001b[0m]      │\n",
       "├───────────────────────────────┼───────────────────────────┼─────────────────┼────────────────────────────┤\n",
       "│ batch_normalization_2         │ (\u001b[38;5;45mNone\u001b[0m, \u001b[38;5;34m50\u001b[0m, \u001b[38;5;34m216\u001b[0m)           │             \u001b[38;5;34m864\u001b[0m │ dropout_2[\u001b[38;5;34m0\u001b[0m][\u001b[38;5;34m0\u001b[0m]            │\n",
       "│ (\u001b[38;5;33mBatchNormalization\u001b[0m)          │                           │                 │                            │\n",
       "├───────────────────────────────┼───────────────────────────┼─────────────────┼────────────────────────────┤\n",
       "│ bidirectional_3               │ (\u001b[38;5;45mNone\u001b[0m, \u001b[38;5;34m50\u001b[0m, \u001b[38;5;34m128\u001b[0m)           │         \u001b[38;5;34m143,872\u001b[0m │ batch_normalization_2[\u001b[38;5;34m0\u001b[0m][\u001b[38;5;34m…\u001b[0m │\n",
       "│ (\u001b[38;5;33mBidirectional\u001b[0m)               │                           │                 │                            │\n",
       "├───────────────────────────────┼───────────────────────────┼─────────────────┼────────────────────────────┤\n",
       "│ dropout_3 (\u001b[38;5;33mDropout\u001b[0m)           │ (\u001b[38;5;45mNone\u001b[0m, \u001b[38;5;34m50\u001b[0m, \u001b[38;5;34m128\u001b[0m)           │               \u001b[38;5;34m0\u001b[0m │ bidirectional_3[\u001b[38;5;34m0\u001b[0m][\u001b[38;5;34m0\u001b[0m]      │\n",
       "├───────────────────────────────┼───────────────────────────┼─────────────────┼────────────────────────────┤\n",
       "│ batch_normalization_3         │ (\u001b[38;5;45mNone\u001b[0m, \u001b[38;5;34m50\u001b[0m, \u001b[38;5;34m128\u001b[0m)           │             \u001b[38;5;34m512\u001b[0m │ dropout_3[\u001b[38;5;34m0\u001b[0m][\u001b[38;5;34m0\u001b[0m]            │\n",
       "│ (\u001b[38;5;33mBatchNormalization\u001b[0m)          │                           │                 │                            │\n",
       "├───────────────────────────────┼───────────────────────────┼─────────────────┼────────────────────────────┤\n",
       "│ attention_1 (\u001b[38;5;33mAttention\u001b[0m)       │ (\u001b[38;5;45mNone\u001b[0m, \u001b[38;5;34m50\u001b[0m, \u001b[38;5;34m128\u001b[0m)           │               \u001b[38;5;34m0\u001b[0m │ batch_normalization_3[\u001b[38;5;34m0\u001b[0m][\u001b[38;5;34m…\u001b[0m │\n",
       "│                               │                           │                 │ batch_normalization_3[\u001b[38;5;34m0\u001b[0m][\u001b[38;5;34m…\u001b[0m │\n",
       "├───────────────────────────────┼───────────────────────────┼─────────────────┼────────────────────────────┤\n",
       "│ global_average_pooling1d_1    │ (\u001b[38;5;45mNone\u001b[0m, \u001b[38;5;34m128\u001b[0m)               │               \u001b[38;5;34m0\u001b[0m │ attention_1[\u001b[38;5;34m0\u001b[0m][\u001b[38;5;34m0\u001b[0m]          │\n",
       "│ (\u001b[38;5;33mGlobalAveragePooling1D\u001b[0m)      │                           │                 │                            │\n",
       "├───────────────────────────────┼───────────────────────────┼─────────────────┼────────────────────────────┤\n",
       "│ dense_3 (\u001b[38;5;33mDense\u001b[0m)               │ (\u001b[38;5;45mNone\u001b[0m, \u001b[38;5;34m32\u001b[0m)                │           \u001b[38;5;34m4,128\u001b[0m │ global_average_pooling1d_… │\n",
       "├───────────────────────────────┼───────────────────────────┼─────────────────┼────────────────────────────┤\n",
       "│ dense_4 (\u001b[38;5;33mDense\u001b[0m)               │ (\u001b[38;5;45mNone\u001b[0m, \u001b[38;5;34m32\u001b[0m)                │           \u001b[38;5;34m1,056\u001b[0m │ dense_3[\u001b[38;5;34m0\u001b[0m][\u001b[38;5;34m0\u001b[0m]              │\n",
       "├───────────────────────────────┼───────────────────────────┼─────────────────┼────────────────────────────┤\n",
       "│ dense_5 (\u001b[38;5;33mDense\u001b[0m)               │ (\u001b[38;5;45mNone\u001b[0m, \u001b[38;5;34m14\u001b[0m)                │             \u001b[38;5;34m462\u001b[0m │ dense_4[\u001b[38;5;34m0\u001b[0m][\u001b[38;5;34m0\u001b[0m]              │\n",
       "└───────────────────────────────┴───────────────────────────┴─────────────────┴────────────────────────────┘\n"
      ]
     },
     "metadata": {},
     "output_type": "display_data"
    },
    {
     "data": {
      "text/html": [
       "<pre style=\"white-space:pre;overflow-x:auto;line-height:normal;font-family:Menlo,'DejaVu Sans Mono',consolas,'Courier New',monospace\"><span style=\"font-weight: bold\"> Total params: </span><span style=\"color: #00af00; text-decoration-color: #00af00\">288,270</span> (1.10 MB)\n",
       "</pre>\n"
      ],
      "text/plain": [
       "\u001b[1m Total params: \u001b[0m\u001b[38;5;34m288,270\u001b[0m (1.10 MB)\n"
      ]
     },
     "metadata": {},
     "output_type": "display_data"
    },
    {
     "data": {
      "text/html": [
       "<pre style=\"white-space:pre;overflow-x:auto;line-height:normal;font-family:Menlo,'DejaVu Sans Mono',consolas,'Courier New',monospace\"><span style=\"font-weight: bold\"> Trainable params: </span><span style=\"color: #00af00; text-decoration-color: #00af00\">287,582</span> (1.10 MB)\n",
       "</pre>\n"
      ],
      "text/plain": [
       "\u001b[1m Trainable params: \u001b[0m\u001b[38;5;34m287,582\u001b[0m (1.10 MB)\n"
      ]
     },
     "metadata": {},
     "output_type": "display_data"
    },
    {
     "data": {
      "text/html": [
       "<pre style=\"white-space:pre;overflow-x:auto;line-height:normal;font-family:Menlo,'DejaVu Sans Mono',consolas,'Courier New',monospace\"><span style=\"font-weight: bold\"> Non-trainable params: </span><span style=\"color: #00af00; text-decoration-color: #00af00\">688</span> (2.69 KB)\n",
       "</pre>\n"
      ],
      "text/plain": [
       "\u001b[1m Non-trainable params: \u001b[0m\u001b[38;5;34m688\u001b[0m (2.69 KB)\n"
      ]
     },
     "metadata": {},
     "output_type": "display_data"
    }
   ],
   "source": [
    "model.summary()"
   ]
  },
  {
   "cell_type": "code",
   "execution_count": 66,
   "id": "a9c92694-0296-4804-903a-bbe133af66d3",
   "metadata": {},
   "outputs": [
    {
     "name": "stdout",
     "output_type": "stream",
     "text": [
      "Epoch 1/200\n",
      "\u001b[1m956/956\u001b[0m \u001b[32m━━━━━━━━━━━━━━━━━━━━\u001b[0m\u001b[37m\u001b[0m \u001b[1m99s\u001b[0m 91ms/step - f1_score: 0.2546 - hamming_loss: 0.1214 - loss: 1.2488 - precision_1: 0.7628 - recall_1: 0.1464 - val_f1_score: 0.2661 - val_hamming_loss: 0.1144 - val_loss: 0.2911 - val_precision_1: 0.7248 - val_recall_1: 0.2432 - learning_rate: 0.0010\n",
      "Epoch 2/200\n",
      "\u001b[1m956/956\u001b[0m \u001b[32m━━━━━━━━━━━━━━━━━━━━\u001b[0m\u001b[37m\u001b[0m \u001b[1m79s\u001b[0m 83ms/step - f1_score: 0.3116 - hamming_loss: 0.1162 - loss: 0.2901 - precision_1: 0.8017 - recall_1: 0.1935 - val_f1_score: 0.3467 - val_hamming_loss: 0.1167 - val_loss: 0.2877 - val_precision_1: 0.7356 - val_recall_1: 0.2099 - learning_rate: 0.0010\n",
      "Epoch 3/200\n",
      "\u001b[1m956/956\u001b[0m \u001b[32m━━━━━━━━━━━━━━━━━━━━\u001b[0m\u001b[37m\u001b[0m \u001b[1m81s\u001b[0m 84ms/step - f1_score: 0.3301 - hamming_loss: 0.1166 - loss: 0.2854 - precision_1: 0.8124 - recall_1: 0.1912 - val_f1_score: 0.3366 - val_hamming_loss: 0.1108 - val_loss: 0.2807 - val_precision_1: 0.7988 - val_recall_1: 0.2372 - learning_rate: 0.0010\n",
      "Epoch 4/200\n",
      "\u001b[1m956/956\u001b[0m \u001b[32m━━━━━━━━━━━━━━━━━━━━\u001b[0m\u001b[37m\u001b[0m \u001b[1m63s\u001b[0m 66ms/step - f1_score: 0.3370 - hamming_loss: 0.1151 - loss: 0.2793 - precision_1: 0.8155 - recall_1: 0.2038 - val_f1_score: 0.3620 - val_hamming_loss: 0.1135 - val_loss: 0.2782 - val_precision_1: 0.7667 - val_recall_1: 0.2268 - learning_rate: 0.0010\n",
      "Epoch 5/200\n",
      "\u001b[1m956/956\u001b[0m \u001b[32m━━━━━━━━━━━━━━━━━━━━\u001b[0m\u001b[37m\u001b[0m \u001b[1m80s\u001b[0m 65ms/step - f1_score: 0.3489 - hamming_loss: 0.1151 - loss: 0.2756 - precision_1: 0.8189 - recall_1: 0.2034 - val_f1_score: 0.3734 - val_hamming_loss: 0.1131 - val_loss: 0.2693 - val_precision_1: 0.8380 - val_recall_1: 0.1996 - learning_rate: 0.0010\n",
      "Epoch 6/200\n",
      "\u001b[1m956/956\u001b[0m \u001b[32m━━━━━━━━━━━━━━━━━━━━\u001b[0m\u001b[37m\u001b[0m \u001b[1m79s\u001b[0m 62ms/step - f1_score: 0.3488 - hamming_loss: 0.1145 - loss: 0.2735 - precision_1: 0.8217 - recall_1: 0.2067 - val_f1_score: 0.3490 - val_hamming_loss: 0.1105 - val_loss: 0.2686 - val_precision_1: 0.8093 - val_recall_1: 0.2353 - learning_rate: 0.0010\n",
      "Epoch 7/200\n",
      "\u001b[1m956/956\u001b[0m \u001b[32m━━━━━━━━━━━━━━━━━━━━\u001b[0m\u001b[37m\u001b[0m \u001b[1m83s\u001b[0m 63ms/step - f1_score: 0.3547 - hamming_loss: 0.1142 - loss: 0.2715 - precision_1: 0.8277 - recall_1: 0.2079 - val_f1_score: 0.3259 - val_hamming_loss: 0.1121 - val_loss: 0.2816 - val_precision_1: 0.7819 - val_recall_1: 0.2337 - learning_rate: 0.0010\n",
      "Epoch 8/200\n",
      "\u001b[1m956/956\u001b[0m \u001b[32m━━━━━━━━━━━━━━━━━━━━\u001b[0m\u001b[37m\u001b[0m \u001b[1m83s\u001b[0m 64ms/step - f1_score: 0.3517 - hamming_loss: 0.1147 - loss: 0.2720 - precision_1: 0.8294 - recall_1: 0.2065 - val_f1_score: 0.3181 - val_hamming_loss: 0.1106 - val_loss: 0.2732 - val_precision_1: 0.7573 - val_recall_1: 0.2639 - learning_rate: 0.0010\n",
      "Epoch 9/200\n",
      "\u001b[1m956/956\u001b[0m \u001b[32m━━━━━━━━━━━━━━━━━━━━\u001b[0m\u001b[37m\u001b[0m \u001b[1m92s\u001b[0m 74ms/step - f1_score: 0.3498 - hamming_loss: 0.1139 - loss: 0.2704 - precision_1: 0.8175 - recall_1: 0.2121 - val_f1_score: 0.3621 - val_hamming_loss: 0.1162 - val_loss: 0.2735 - val_precision_1: 0.7822 - val_recall_1: 0.1906 - learning_rate: 0.0010\n",
      "Epoch 10/200\n",
      "\u001b[1m956/956\u001b[0m \u001b[32m━━━━━━━━━━━━━━━━━━━━\u001b[0m\u001b[37m\u001b[0m \u001b[1m60s\u001b[0m 63ms/step - f1_score: 0.3549 - hamming_loss: 0.1150 - loss: 0.2698 - precision_1: 0.8201 - recall_1: 0.2078 - val_f1_score: 0.3479 - val_hamming_loss: 0.1108 - val_loss: 0.2734 - val_precision_1: 0.7726 - val_recall_1: 0.2516 - learning_rate: 0.0010\n",
      "Epoch 11/200\n",
      "\u001b[1m956/956\u001b[0m \u001b[32m━━━━━━━━━━━━━━━━━━━━\u001b[0m\u001b[37m\u001b[0m \u001b[1m82s\u001b[0m 63ms/step - f1_score: 0.3583 - hamming_loss: 0.1139 - loss: 0.2678 - precision_1: 0.8186 - recall_1: 0.2121 - val_f1_score: 0.3753 - val_hamming_loss: 0.1152 - val_loss: 0.2677 - val_precision_1: 0.8085 - val_recall_1: 0.1897 - learning_rate: 0.0010\n",
      "Epoch 12/200\n",
      "\u001b[1m956/956\u001b[0m \u001b[32m━━━━━━━━━━━━━━━━━━━━\u001b[0m\u001b[37m\u001b[0m \u001b[1m85s\u001b[0m 66ms/step - f1_score: 0.3567 - hamming_loss: 0.1135 - loss: 0.2665 - precision_1: 0.8204 - recall_1: 0.2171 - val_f1_score: 0.3691 - val_hamming_loss: 0.1106 - val_loss: 0.2671 - val_precision_1: 0.8091 - val_recall_1: 0.2348 - learning_rate: 0.0010\n",
      "Epoch 13/200\n",
      "\u001b[1m956/956\u001b[0m \u001b[32m━━━━━━━━━━━━━━━━━━━━\u001b[0m\u001b[37m\u001b[0m \u001b[1m80s\u001b[0m 64ms/step - f1_score: 0.3591 - hamming_loss: 0.1137 - loss: 0.2666 - precision_1: 0.8205 - recall_1: 0.2139 - val_f1_score: 0.3731 - val_hamming_loss: 0.1121 - val_loss: 0.2635 - val_precision_1: 0.8287 - val_recall_1: 0.2121 - learning_rate: 0.0010\n",
      "Epoch 14/200\n",
      "\u001b[1m956/956\u001b[0m \u001b[32m━━━━━━━━━━━━━━━━━━━━\u001b[0m\u001b[37m\u001b[0m \u001b[1m78s\u001b[0m 61ms/step - f1_score: 0.3567 - hamming_loss: 0.1137 - loss: 0.2665 - precision_1: 0.8268 - recall_1: 0.2144 - val_f1_score: 0.3712 - val_hamming_loss: 0.1132 - val_loss: 0.2651 - val_precision_1: 0.8204 - val_recall_1: 0.2050 - learning_rate: 0.0010\n",
      "Epoch 15/200\n",
      "\u001b[1m956/956\u001b[0m \u001b[32m━━━━━━━━━━━━━━━━━━━━\u001b[0m\u001b[37m\u001b[0m \u001b[1m61s\u001b[0m 64ms/step - f1_score: 0.3577 - hamming_loss: 0.1137 - loss: 0.2658 - precision_1: 0.8189 - recall_1: 0.2150 - val_f1_score: 0.3752 - val_hamming_loss: 0.1108 - val_loss: 0.2679 - val_precision_1: 0.7724 - val_recall_1: 0.2526 - learning_rate: 0.0010\n",
      "Epoch 16/200\n",
      "\u001b[1m955/956\u001b[0m \u001b[32m━━━━━━━━━━━━━━━━━━━\u001b[0m\u001b[37m━\u001b[0m \u001b[1m0s\u001b[0m 54ms/step - f1_score: 0.3614 - hamming_loss: 0.1128 - loss: 0.2646 - precision_1: 0.8187 - recall_1: 0.2171\n",
      "Epoch 16: ReduceLROnPlateau reducing learning rate to 0.00010000000474974513.\n",
      "\u001b[1m956/956\u001b[0m \u001b[32m━━━━━━━━━━━━━━━━━━━━\u001b[0m\u001b[37m\u001b[0m \u001b[1m59s\u001b[0m 61ms/step - f1_score: 0.3614 - hamming_loss: 0.1128 - loss: 0.2646 - precision_1: 0.8187 - recall_1: 0.2171 - val_f1_score: 0.3316 - val_hamming_loss: 0.1117 - val_loss: 0.2765 - val_precision_1: 0.7611 - val_recall_1: 0.2498 - learning_rate: 0.0010\n",
      "Epoch 17/200\n",
      "\u001b[1m956/956\u001b[0m \u001b[32m━━━━━━━━━━━━━━━━━━━━\u001b[0m\u001b[37m\u001b[0m \u001b[1m63s\u001b[0m 66ms/step - f1_score: 0.3661 - hamming_loss: 0.1121 - loss: 0.2594 - precision_1: 0.8391 - recall_1: 0.2193 - val_f1_score: 0.3904 - val_hamming_loss: 0.1098 - val_loss: 0.2548 - val_precision_1: 0.8151 - val_recall_1: 0.2401 - learning_rate: 1.0000e-04\n",
      "Epoch 18/200\n",
      "\u001b[1m956/956\u001b[0m \u001b[32m━━━━━━━━━━━━━━━━━━━━\u001b[0m\u001b[37m\u001b[0m \u001b[1m81s\u001b[0m 65ms/step - f1_score: 0.3640 - hamming_loss: 0.1130 - loss: 0.2579 - precision_1: 0.8283 - recall_1: 0.2191 - val_f1_score: 0.3899 - val_hamming_loss: 0.1095 - val_loss: 0.2541 - val_precision_1: 0.8194 - val_recall_1: 0.2404 - learning_rate: 1.0000e-04\n",
      "Epoch 19/200\n",
      "\u001b[1m956/956\u001b[0m \u001b[32m━━━━━━━━━━━━━━━━━━━━\u001b[0m\u001b[37m\u001b[0m \u001b[1m62s\u001b[0m 65ms/step - f1_score: 0.3649 - hamming_loss: 0.1118 - loss: 0.2564 - precision_1: 0.8302 - recall_1: 0.2256 - val_f1_score: 0.3796 - val_hamming_loss: 0.1094 - val_loss: 0.2541 - val_precision_1: 0.8103 - val_recall_1: 0.2460 - learning_rate: 1.0000e-04\n",
      "Epoch 20/200\n",
      "\u001b[1m956/956\u001b[0m \u001b[32m━━━━━━━━━━━━━━━━━━━━\u001b[0m\u001b[37m\u001b[0m \u001b[1m57s\u001b[0m 59ms/step - f1_score: 0.3643 - hamming_loss: 0.1121 - loss: 0.2568 - precision_1: 0.8279 - recall_1: 0.2221 - val_f1_score: 0.3889 - val_hamming_loss: 0.1096 - val_loss: 0.2534 - val_precision_1: 0.8215 - val_recall_1: 0.2387 - learning_rate: 1.0000e-04\n",
      "Epoch 21/200\n",
      "\u001b[1m956/956\u001b[0m \u001b[32m━━━━━━━━━━━━━━━━━━━━\u001b[0m\u001b[37m\u001b[0m \u001b[1m60s\u001b[0m 63ms/step - f1_score: 0.3667 - hamming_loss: 0.1119 - loss: 0.2553 - precision_1: 0.8344 - recall_1: 0.2267 - val_f1_score: 0.3878 - val_hamming_loss: 0.1099 - val_loss: 0.2544 - val_precision_1: 0.8122 - val_recall_1: 0.2405 - learning_rate: 1.0000e-04\n",
      "Epoch 22/200\n",
      "\u001b[1m956/956\u001b[0m \u001b[32m━━━━━━━━━━━━━━━━━━━━\u001b[0m\u001b[37m\u001b[0m \u001b[1m81s\u001b[0m 62ms/step - f1_score: 0.3691 - hamming_loss: 0.1124 - loss: 0.2568 - precision_1: 0.8262 - recall_1: 0.2257 - val_f1_score: 0.3723 - val_hamming_loss: 0.1091 - val_loss: 0.2540 - val_precision_1: 0.7918 - val_recall_1: 0.2589 - learning_rate: 1.0000e-04\n",
      "Epoch 23/200\n",
      "\u001b[1m956/956\u001b[0m \u001b[32m━━━━━━━━━━━━━━━━━━━━\u001b[0m\u001b[37m\u001b[0m \u001b[1m62s\u001b[0m 64ms/step - f1_score: 0.3665 - hamming_loss: 0.1117 - loss: 0.2567 - precision_1: 0.8249 - recall_1: 0.2280 - val_f1_score: 0.3874 - val_hamming_loss: 0.1097 - val_loss: 0.2533 - val_precision_1: 0.8114 - val_recall_1: 0.2428 - learning_rate: 1.0000e-04\n",
      "Epoch 24/200\n",
      "\u001b[1m956/956\u001b[0m \u001b[32m━━━━━━━━━━━━━━━━━━━━\u001b[0m\u001b[37m\u001b[0m \u001b[1m61s\u001b[0m 64ms/step - f1_score: 0.3662 - hamming_loss: 0.1129 - loss: 0.2579 - precision_1: 0.8229 - recall_1: 0.2203 - val_f1_score: 0.3928 - val_hamming_loss: 0.1090 - val_loss: 0.2535 - val_precision_1: 0.8090 - val_recall_1: 0.2499 - learning_rate: 1.0000e-04\n",
      "Epoch 25/200\n",
      "\u001b[1m956/956\u001b[0m \u001b[32m━━━━━━━━━━━━━━━━━━━━\u001b[0m\u001b[37m\u001b[0m \u001b[1m61s\u001b[0m 64ms/step - f1_score: 0.3710 - hamming_loss: 0.1116 - loss: 0.2567 - precision_1: 0.8318 - recall_1: 0.2286 - val_f1_score: 0.3862 - val_hamming_loss: 0.1091 - val_loss: 0.2526 - val_precision_1: 0.8034 - val_recall_1: 0.2520 - learning_rate: 1.0000e-04\n",
      "Epoch 26/200\n",
      "\u001b[1m956/956\u001b[0m \u001b[32m━━━━━━━━━━━━━━━━━━━━\u001b[0m\u001b[37m\u001b[0m \u001b[1m60s\u001b[0m 63ms/step - f1_score: 0.3694 - hamming_loss: 0.1120 - loss: 0.2555 - precision_1: 0.8238 - recall_1: 0.2255 - val_f1_score: 0.3841 - val_hamming_loss: 0.1093 - val_loss: 0.2536 - val_precision_1: 0.8097 - val_recall_1: 0.2467 - learning_rate: 1.0000e-04\n",
      "Epoch 27/200\n",
      "\u001b[1m956/956\u001b[0m \u001b[32m━━━━━━━━━━━━━━━━━━━━\u001b[0m\u001b[37m\u001b[0m \u001b[1m83s\u001b[0m 63ms/step - f1_score: 0.3694 - hamming_loss: 0.1116 - loss: 0.2562 - precision_1: 0.8275 - recall_1: 0.2277 - val_f1_score: 0.3873 - val_hamming_loss: 0.1092 - val_loss: 0.2533 - val_precision_1: 0.8070 - val_recall_1: 0.2498 - learning_rate: 1.0000e-04\n",
      "Epoch 28/200\n",
      "\u001b[1m956/956\u001b[0m \u001b[32m━━━━━━━━━━━━━━━━━━━━\u001b[0m\u001b[37m\u001b[0m \u001b[1m80s\u001b[0m 62ms/step - f1_score: 0.3673 - hamming_loss: 0.1119 - loss: 0.2562 - precision_1: 0.8256 - recall_1: 0.2286 - val_f1_score: 0.3850 - val_hamming_loss: 0.1090 - val_loss: 0.2533 - val_precision_1: 0.8080 - val_recall_1: 0.2512 - learning_rate: 1.0000e-04\n",
      "Epoch 29/200\n",
      "\u001b[1m956/956\u001b[0m \u001b[32m━━━━━━━━━━━━━━━━━━━━\u001b[0m\u001b[37m\u001b[0m \u001b[1m61s\u001b[0m 64ms/step - f1_score: 0.3707 - hamming_loss: 0.1118 - loss: 0.2543 - precision_1: 0.8271 - recall_1: 0.2272 - val_f1_score: 0.3887 - val_hamming_loss: 0.1094 - val_loss: 0.2536 - val_precision_1: 0.8058 - val_recall_1: 0.2479 - learning_rate: 1.0000e-04\n",
      "Epoch 30/200\n",
      "\u001b[1m 47/956\u001b[0m \u001b[37m━━━━━━━━━━━━━━━━━━━━\u001b[0m \u001b[1m56s\u001b[0m 62ms/step - f1_score: 0.3583 - hamming_loss: 0.1080 - loss: 0.2529 - precision_1: 0.7819 - recall_1: 0.2324"
     ]
    },
    {
     "ename": "KeyboardInterrupt",
     "evalue": "",
     "output_type": "error",
     "traceback": [
      "\u001b[1;31m---------------------------------------------------------------------------\u001b[0m",
      "\u001b[1;31mKeyboardInterrupt\u001b[0m                         Traceback (most recent call last)",
      "Cell \u001b[1;32mIn[66], line 1\u001b[0m\n\u001b[1;32m----> 1\u001b[0m \u001b[43mmodel\u001b[49m\u001b[38;5;241;43m.\u001b[39;49m\u001b[43mfit\u001b[49m\u001b[43m(\u001b[49m\u001b[43mX_f\u001b[49m\u001b[43m,\u001b[49m\u001b[43m \u001b[49m\u001b[43my_f\u001b[49m\u001b[43m,\u001b[49m\u001b[43m \u001b[49m\n\u001b[0;32m      2\u001b[0m \u001b[43m          \u001b[49m\u001b[43mepochs\u001b[49m\u001b[38;5;241;43m=\u001b[39;49m\u001b[38;5;241;43m200\u001b[39;49m\u001b[43m,\u001b[49m\u001b[43m \u001b[49m\n\u001b[0;32m      3\u001b[0m \u001b[43m          \u001b[49m\u001b[43mbatch_size\u001b[49m\u001b[38;5;241;43m=\u001b[39;49m\u001b[38;5;241;43m32\u001b[39;49m\u001b[43m,\u001b[49m\u001b[43m \u001b[49m\n\u001b[0;32m      4\u001b[0m \u001b[43m          \u001b[49m\u001b[43mvalidation_split\u001b[49m\u001b[38;5;241;43m=\u001b[39;49m\u001b[38;5;241;43m0.25\u001b[39;49m\u001b[43m,\u001b[49m\u001b[43m \u001b[49m\n\u001b[0;32m      5\u001b[0m \u001b[43m          \u001b[49m\u001b[43mcallbacks\u001b[49m\u001b[38;5;241;43m=\u001b[39;49m\u001b[43mcallbacks\u001b[49m\u001b[43m)\u001b[49m\n",
      "File \u001b[1;32m~\\Desktop\\Skill 2.0\\Project\\NLP\\1) Dialogue Act Recognition\\venv\\Lib\\site-packages\\keras\\src\\utils\\traceback_utils.py:117\u001b[0m, in \u001b[0;36mfilter_traceback.<locals>.error_handler\u001b[1;34m(*args, **kwargs)\u001b[0m\n\u001b[0;32m    115\u001b[0m filtered_tb \u001b[38;5;241m=\u001b[39m \u001b[38;5;28;01mNone\u001b[39;00m\n\u001b[0;32m    116\u001b[0m \u001b[38;5;28;01mtry\u001b[39;00m:\n\u001b[1;32m--> 117\u001b[0m     \u001b[38;5;28;01mreturn\u001b[39;00m \u001b[43mfn\u001b[49m\u001b[43m(\u001b[49m\u001b[38;5;241;43m*\u001b[39;49m\u001b[43margs\u001b[49m\u001b[43m,\u001b[49m\u001b[43m \u001b[49m\u001b[38;5;241;43m*\u001b[39;49m\u001b[38;5;241;43m*\u001b[39;49m\u001b[43mkwargs\u001b[49m\u001b[43m)\u001b[49m\n\u001b[0;32m    118\u001b[0m \u001b[38;5;28;01mexcept\u001b[39;00m \u001b[38;5;167;01mException\u001b[39;00m \u001b[38;5;28;01mas\u001b[39;00m e:\n\u001b[0;32m    119\u001b[0m     filtered_tb \u001b[38;5;241m=\u001b[39m _process_traceback_frames(e\u001b[38;5;241m.\u001b[39m__traceback__)\n",
      "File \u001b[1;32m~\\Desktop\\Skill 2.0\\Project\\NLP\\1) Dialogue Act Recognition\\venv\\Lib\\site-packages\\keras\\src\\backend\\tensorflow\\trainer.py:314\u001b[0m, in \u001b[0;36mTensorFlowTrainer.fit\u001b[1;34m(self, x, y, batch_size, epochs, verbose, callbacks, validation_split, validation_data, shuffle, class_weight, sample_weight, initial_epoch, steps_per_epoch, validation_steps, validation_batch_size, validation_freq)\u001b[0m\n\u001b[0;32m    312\u001b[0m \u001b[38;5;28;01mfor\u001b[39;00m step, iterator \u001b[38;5;129;01min\u001b[39;00m epoch_iterator\u001b[38;5;241m.\u001b[39menumerate_epoch():\n\u001b[0;32m    313\u001b[0m     callbacks\u001b[38;5;241m.\u001b[39mon_train_batch_begin(step)\n\u001b[1;32m--> 314\u001b[0m     logs \u001b[38;5;241m=\u001b[39m \u001b[38;5;28;43mself\u001b[39;49m\u001b[38;5;241;43m.\u001b[39;49m\u001b[43mtrain_function\u001b[49m\u001b[43m(\u001b[49m\u001b[43miterator\u001b[49m\u001b[43m)\u001b[49m\n\u001b[0;32m    315\u001b[0m     logs \u001b[38;5;241m=\u001b[39m \u001b[38;5;28mself\u001b[39m\u001b[38;5;241m.\u001b[39m_pythonify_logs(logs)\n\u001b[0;32m    316\u001b[0m     callbacks\u001b[38;5;241m.\u001b[39mon_train_batch_end(step, logs)\n",
      "File \u001b[1;32m~\\Desktop\\Skill 2.0\\Project\\NLP\\1) Dialogue Act Recognition\\venv\\Lib\\site-packages\\tensorflow\\python\\util\\traceback_utils.py:150\u001b[0m, in \u001b[0;36mfilter_traceback.<locals>.error_handler\u001b[1;34m(*args, **kwargs)\u001b[0m\n\u001b[0;32m    148\u001b[0m filtered_tb \u001b[38;5;241m=\u001b[39m \u001b[38;5;28;01mNone\u001b[39;00m\n\u001b[0;32m    149\u001b[0m \u001b[38;5;28;01mtry\u001b[39;00m:\n\u001b[1;32m--> 150\u001b[0m   \u001b[38;5;28;01mreturn\u001b[39;00m \u001b[43mfn\u001b[49m\u001b[43m(\u001b[49m\u001b[38;5;241;43m*\u001b[39;49m\u001b[43margs\u001b[49m\u001b[43m,\u001b[49m\u001b[43m \u001b[49m\u001b[38;5;241;43m*\u001b[39;49m\u001b[38;5;241;43m*\u001b[39;49m\u001b[43mkwargs\u001b[49m\u001b[43m)\u001b[49m\n\u001b[0;32m    151\u001b[0m \u001b[38;5;28;01mexcept\u001b[39;00m \u001b[38;5;167;01mException\u001b[39;00m \u001b[38;5;28;01mas\u001b[39;00m e:\n\u001b[0;32m    152\u001b[0m   filtered_tb \u001b[38;5;241m=\u001b[39m _process_traceback_frames(e\u001b[38;5;241m.\u001b[39m__traceback__)\n",
      "File \u001b[1;32m~\\Desktop\\Skill 2.0\\Project\\NLP\\1) Dialogue Act Recognition\\venv\\Lib\\site-packages\\tensorflow\\python\\eager\\polymorphic_function\\polymorphic_function.py:833\u001b[0m, in \u001b[0;36mFunction.__call__\u001b[1;34m(self, *args, **kwds)\u001b[0m\n\u001b[0;32m    830\u001b[0m compiler \u001b[38;5;241m=\u001b[39m \u001b[38;5;124m\"\u001b[39m\u001b[38;5;124mxla\u001b[39m\u001b[38;5;124m\"\u001b[39m \u001b[38;5;28;01mif\u001b[39;00m \u001b[38;5;28mself\u001b[39m\u001b[38;5;241m.\u001b[39m_jit_compile \u001b[38;5;28;01melse\u001b[39;00m \u001b[38;5;124m\"\u001b[39m\u001b[38;5;124mnonXla\u001b[39m\u001b[38;5;124m\"\u001b[39m\n\u001b[0;32m    832\u001b[0m \u001b[38;5;28;01mwith\u001b[39;00m OptionalXlaContext(\u001b[38;5;28mself\u001b[39m\u001b[38;5;241m.\u001b[39m_jit_compile):\n\u001b[1;32m--> 833\u001b[0m   result \u001b[38;5;241m=\u001b[39m \u001b[38;5;28;43mself\u001b[39;49m\u001b[38;5;241;43m.\u001b[39;49m\u001b[43m_call\u001b[49m\u001b[43m(\u001b[49m\u001b[38;5;241;43m*\u001b[39;49m\u001b[43margs\u001b[49m\u001b[43m,\u001b[49m\u001b[43m \u001b[49m\u001b[38;5;241;43m*\u001b[39;49m\u001b[38;5;241;43m*\u001b[39;49m\u001b[43mkwds\u001b[49m\u001b[43m)\u001b[49m\n\u001b[0;32m    835\u001b[0m new_tracing_count \u001b[38;5;241m=\u001b[39m \u001b[38;5;28mself\u001b[39m\u001b[38;5;241m.\u001b[39mexperimental_get_tracing_count()\n\u001b[0;32m    836\u001b[0m without_tracing \u001b[38;5;241m=\u001b[39m (tracing_count \u001b[38;5;241m==\u001b[39m new_tracing_count)\n",
      "File \u001b[1;32m~\\Desktop\\Skill 2.0\\Project\\NLP\\1) Dialogue Act Recognition\\venv\\Lib\\site-packages\\tensorflow\\python\\eager\\polymorphic_function\\polymorphic_function.py:878\u001b[0m, in \u001b[0;36mFunction._call\u001b[1;34m(self, *args, **kwds)\u001b[0m\n\u001b[0;32m    875\u001b[0m \u001b[38;5;28mself\u001b[39m\u001b[38;5;241m.\u001b[39m_lock\u001b[38;5;241m.\u001b[39mrelease()\n\u001b[0;32m    876\u001b[0m \u001b[38;5;66;03m# In this case we have not created variables on the first call. So we can\u001b[39;00m\n\u001b[0;32m    877\u001b[0m \u001b[38;5;66;03m# run the first trace but we should fail if variables are created.\u001b[39;00m\n\u001b[1;32m--> 878\u001b[0m results \u001b[38;5;241m=\u001b[39m \u001b[43mtracing_compilation\u001b[49m\u001b[38;5;241;43m.\u001b[39;49m\u001b[43mcall_function\u001b[49m\u001b[43m(\u001b[49m\n\u001b[0;32m    879\u001b[0m \u001b[43m    \u001b[49m\u001b[43margs\u001b[49m\u001b[43m,\u001b[49m\u001b[43m \u001b[49m\u001b[43mkwds\u001b[49m\u001b[43m,\u001b[49m\u001b[43m \u001b[49m\u001b[38;5;28;43mself\u001b[39;49m\u001b[38;5;241;43m.\u001b[39;49m\u001b[43m_variable_creation_config\u001b[49m\n\u001b[0;32m    880\u001b[0m \u001b[43m\u001b[49m\u001b[43m)\u001b[49m\n\u001b[0;32m    881\u001b[0m \u001b[38;5;28;01mif\u001b[39;00m \u001b[38;5;28mself\u001b[39m\u001b[38;5;241m.\u001b[39m_created_variables:\n\u001b[0;32m    882\u001b[0m   \u001b[38;5;28;01mraise\u001b[39;00m \u001b[38;5;167;01mValueError\u001b[39;00m(\u001b[38;5;124m\"\u001b[39m\u001b[38;5;124mCreating variables on a non-first call to a function\u001b[39m\u001b[38;5;124m\"\u001b[39m\n\u001b[0;32m    883\u001b[0m                    \u001b[38;5;124m\"\u001b[39m\u001b[38;5;124m decorated with tf.function.\u001b[39m\u001b[38;5;124m\"\u001b[39m)\n",
      "File \u001b[1;32m~\\Desktop\\Skill 2.0\\Project\\NLP\\1) Dialogue Act Recognition\\venv\\Lib\\site-packages\\tensorflow\\python\\eager\\polymorphic_function\\tracing_compilation.py:139\u001b[0m, in \u001b[0;36mcall_function\u001b[1;34m(args, kwargs, tracing_options)\u001b[0m\n\u001b[0;32m    137\u001b[0m bound_args \u001b[38;5;241m=\u001b[39m function\u001b[38;5;241m.\u001b[39mfunction_type\u001b[38;5;241m.\u001b[39mbind(\u001b[38;5;241m*\u001b[39margs, \u001b[38;5;241m*\u001b[39m\u001b[38;5;241m*\u001b[39mkwargs)\n\u001b[0;32m    138\u001b[0m flat_inputs \u001b[38;5;241m=\u001b[39m function\u001b[38;5;241m.\u001b[39mfunction_type\u001b[38;5;241m.\u001b[39munpack_inputs(bound_args)\n\u001b[1;32m--> 139\u001b[0m \u001b[38;5;28;01mreturn\u001b[39;00m \u001b[43mfunction\u001b[49m\u001b[38;5;241;43m.\u001b[39;49m\u001b[43m_call_flat\u001b[49m\u001b[43m(\u001b[49m\u001b[43m  \u001b[49m\u001b[38;5;66;43;03m# pylint: disable=protected-access\u001b[39;49;00m\n\u001b[0;32m    140\u001b[0m \u001b[43m    \u001b[49m\u001b[43mflat_inputs\u001b[49m\u001b[43m,\u001b[49m\u001b[43m \u001b[49m\u001b[43mcaptured_inputs\u001b[49m\u001b[38;5;241;43m=\u001b[39;49m\u001b[43mfunction\u001b[49m\u001b[38;5;241;43m.\u001b[39;49m\u001b[43mcaptured_inputs\u001b[49m\n\u001b[0;32m    141\u001b[0m \u001b[43m\u001b[49m\u001b[43m)\u001b[49m\n",
      "File \u001b[1;32m~\\Desktop\\Skill 2.0\\Project\\NLP\\1) Dialogue Act Recognition\\venv\\Lib\\site-packages\\tensorflow\\python\\eager\\polymorphic_function\\concrete_function.py:1322\u001b[0m, in \u001b[0;36mConcreteFunction._call_flat\u001b[1;34m(self, tensor_inputs, captured_inputs)\u001b[0m\n\u001b[0;32m   1318\u001b[0m possible_gradient_type \u001b[38;5;241m=\u001b[39m gradients_util\u001b[38;5;241m.\u001b[39mPossibleTapeGradientTypes(args)\n\u001b[0;32m   1319\u001b[0m \u001b[38;5;28;01mif\u001b[39;00m (possible_gradient_type \u001b[38;5;241m==\u001b[39m gradients_util\u001b[38;5;241m.\u001b[39mPOSSIBLE_GRADIENT_TYPES_NONE\n\u001b[0;32m   1320\u001b[0m     \u001b[38;5;129;01mand\u001b[39;00m executing_eagerly):\n\u001b[0;32m   1321\u001b[0m   \u001b[38;5;66;03m# No tape is watching; skip to running the function.\u001b[39;00m\n\u001b[1;32m-> 1322\u001b[0m   \u001b[38;5;28;01mreturn\u001b[39;00m \u001b[38;5;28;43mself\u001b[39;49m\u001b[38;5;241;43m.\u001b[39;49m\u001b[43m_inference_function\u001b[49m\u001b[38;5;241;43m.\u001b[39;49m\u001b[43mcall_preflattened\u001b[49m\u001b[43m(\u001b[49m\u001b[43margs\u001b[49m\u001b[43m)\u001b[49m\n\u001b[0;32m   1323\u001b[0m forward_backward \u001b[38;5;241m=\u001b[39m \u001b[38;5;28mself\u001b[39m\u001b[38;5;241m.\u001b[39m_select_forward_and_backward_functions(\n\u001b[0;32m   1324\u001b[0m     args,\n\u001b[0;32m   1325\u001b[0m     possible_gradient_type,\n\u001b[0;32m   1326\u001b[0m     executing_eagerly)\n\u001b[0;32m   1327\u001b[0m forward_function, args_with_tangents \u001b[38;5;241m=\u001b[39m forward_backward\u001b[38;5;241m.\u001b[39mforward()\n",
      "File \u001b[1;32m~\\Desktop\\Skill 2.0\\Project\\NLP\\1) Dialogue Act Recognition\\venv\\Lib\\site-packages\\tensorflow\\python\\eager\\polymorphic_function\\atomic_function.py:216\u001b[0m, in \u001b[0;36mAtomicFunction.call_preflattened\u001b[1;34m(self, args)\u001b[0m\n\u001b[0;32m    214\u001b[0m \u001b[38;5;28;01mdef\u001b[39;00m \u001b[38;5;21mcall_preflattened\u001b[39m(\u001b[38;5;28mself\u001b[39m, args: Sequence[core\u001b[38;5;241m.\u001b[39mTensor]) \u001b[38;5;241m-\u001b[39m\u001b[38;5;241m>\u001b[39m Any:\n\u001b[0;32m    215\u001b[0m \u001b[38;5;250m  \u001b[39m\u001b[38;5;124;03m\"\"\"Calls with flattened tensor inputs and returns the structured output.\"\"\"\u001b[39;00m\n\u001b[1;32m--> 216\u001b[0m   flat_outputs \u001b[38;5;241m=\u001b[39m \u001b[38;5;28;43mself\u001b[39;49m\u001b[38;5;241;43m.\u001b[39;49m\u001b[43mcall_flat\u001b[49m\u001b[43m(\u001b[49m\u001b[38;5;241;43m*\u001b[39;49m\u001b[43margs\u001b[49m\u001b[43m)\u001b[49m\n\u001b[0;32m    217\u001b[0m   \u001b[38;5;28;01mreturn\u001b[39;00m \u001b[38;5;28mself\u001b[39m\u001b[38;5;241m.\u001b[39mfunction_type\u001b[38;5;241m.\u001b[39mpack_output(flat_outputs)\n",
      "File \u001b[1;32m~\\Desktop\\Skill 2.0\\Project\\NLP\\1) Dialogue Act Recognition\\venv\\Lib\\site-packages\\tensorflow\\python\\eager\\polymorphic_function\\atomic_function.py:251\u001b[0m, in \u001b[0;36mAtomicFunction.call_flat\u001b[1;34m(self, *args)\u001b[0m\n\u001b[0;32m    249\u001b[0m \u001b[38;5;28;01mwith\u001b[39;00m record\u001b[38;5;241m.\u001b[39mstop_recording():\n\u001b[0;32m    250\u001b[0m   \u001b[38;5;28;01mif\u001b[39;00m \u001b[38;5;28mself\u001b[39m\u001b[38;5;241m.\u001b[39m_bound_context\u001b[38;5;241m.\u001b[39mexecuting_eagerly():\n\u001b[1;32m--> 251\u001b[0m     outputs \u001b[38;5;241m=\u001b[39m \u001b[38;5;28;43mself\u001b[39;49m\u001b[38;5;241;43m.\u001b[39;49m\u001b[43m_bound_context\u001b[49m\u001b[38;5;241;43m.\u001b[39;49m\u001b[43mcall_function\u001b[49m\u001b[43m(\u001b[49m\n\u001b[0;32m    252\u001b[0m \u001b[43m        \u001b[49m\u001b[38;5;28;43mself\u001b[39;49m\u001b[38;5;241;43m.\u001b[39;49m\u001b[43mname\u001b[49m\u001b[43m,\u001b[49m\n\u001b[0;32m    253\u001b[0m \u001b[43m        \u001b[49m\u001b[38;5;28;43mlist\u001b[39;49m\u001b[43m(\u001b[49m\u001b[43margs\u001b[49m\u001b[43m)\u001b[49m\u001b[43m,\u001b[49m\n\u001b[0;32m    254\u001b[0m \u001b[43m        \u001b[49m\u001b[38;5;28;43mlen\u001b[39;49m\u001b[43m(\u001b[49m\u001b[38;5;28;43mself\u001b[39;49m\u001b[38;5;241;43m.\u001b[39;49m\u001b[43mfunction_type\u001b[49m\u001b[38;5;241;43m.\u001b[39;49m\u001b[43mflat_outputs\u001b[49m\u001b[43m)\u001b[49m\u001b[43m,\u001b[49m\n\u001b[0;32m    255\u001b[0m \u001b[43m    \u001b[49m\u001b[43m)\u001b[49m\n\u001b[0;32m    256\u001b[0m   \u001b[38;5;28;01melse\u001b[39;00m:\n\u001b[0;32m    257\u001b[0m     outputs \u001b[38;5;241m=\u001b[39m make_call_op_in_graph(\n\u001b[0;32m    258\u001b[0m         \u001b[38;5;28mself\u001b[39m,\n\u001b[0;32m    259\u001b[0m         \u001b[38;5;28mlist\u001b[39m(args),\n\u001b[0;32m    260\u001b[0m         \u001b[38;5;28mself\u001b[39m\u001b[38;5;241m.\u001b[39m_bound_context\u001b[38;5;241m.\u001b[39mfunction_call_options\u001b[38;5;241m.\u001b[39mas_attrs(),\n\u001b[0;32m    261\u001b[0m     )\n",
      "File \u001b[1;32m~\\Desktop\\Skill 2.0\\Project\\NLP\\1) Dialogue Act Recognition\\venv\\Lib\\site-packages\\tensorflow\\python\\eager\\context.py:1500\u001b[0m, in \u001b[0;36mContext.call_function\u001b[1;34m(self, name, tensor_inputs, num_outputs)\u001b[0m\n\u001b[0;32m   1498\u001b[0m cancellation_context \u001b[38;5;241m=\u001b[39m cancellation\u001b[38;5;241m.\u001b[39mcontext()\n\u001b[0;32m   1499\u001b[0m \u001b[38;5;28;01mif\u001b[39;00m cancellation_context \u001b[38;5;129;01mis\u001b[39;00m \u001b[38;5;28;01mNone\u001b[39;00m:\n\u001b[1;32m-> 1500\u001b[0m   outputs \u001b[38;5;241m=\u001b[39m \u001b[43mexecute\u001b[49m\u001b[38;5;241;43m.\u001b[39;49m\u001b[43mexecute\u001b[49m\u001b[43m(\u001b[49m\n\u001b[0;32m   1501\u001b[0m \u001b[43m      \u001b[49m\u001b[43mname\u001b[49m\u001b[38;5;241;43m.\u001b[39;49m\u001b[43mdecode\u001b[49m\u001b[43m(\u001b[49m\u001b[38;5;124;43m\"\u001b[39;49m\u001b[38;5;124;43mutf-8\u001b[39;49m\u001b[38;5;124;43m\"\u001b[39;49m\u001b[43m)\u001b[49m\u001b[43m,\u001b[49m\n\u001b[0;32m   1502\u001b[0m \u001b[43m      \u001b[49m\u001b[43mnum_outputs\u001b[49m\u001b[38;5;241;43m=\u001b[39;49m\u001b[43mnum_outputs\u001b[49m\u001b[43m,\u001b[49m\n\u001b[0;32m   1503\u001b[0m \u001b[43m      \u001b[49m\u001b[43minputs\u001b[49m\u001b[38;5;241;43m=\u001b[39;49m\u001b[43mtensor_inputs\u001b[49m\u001b[43m,\u001b[49m\n\u001b[0;32m   1504\u001b[0m \u001b[43m      \u001b[49m\u001b[43mattrs\u001b[49m\u001b[38;5;241;43m=\u001b[39;49m\u001b[43mattrs\u001b[49m\u001b[43m,\u001b[49m\n\u001b[0;32m   1505\u001b[0m \u001b[43m      \u001b[49m\u001b[43mctx\u001b[49m\u001b[38;5;241;43m=\u001b[39;49m\u001b[38;5;28;43mself\u001b[39;49m\u001b[43m,\u001b[49m\n\u001b[0;32m   1506\u001b[0m \u001b[43m  \u001b[49m\u001b[43m)\u001b[49m\n\u001b[0;32m   1507\u001b[0m \u001b[38;5;28;01melse\u001b[39;00m:\n\u001b[0;32m   1508\u001b[0m   outputs \u001b[38;5;241m=\u001b[39m execute\u001b[38;5;241m.\u001b[39mexecute_with_cancellation(\n\u001b[0;32m   1509\u001b[0m       name\u001b[38;5;241m.\u001b[39mdecode(\u001b[38;5;124m\"\u001b[39m\u001b[38;5;124mutf-8\u001b[39m\u001b[38;5;124m\"\u001b[39m),\n\u001b[0;32m   1510\u001b[0m       num_outputs\u001b[38;5;241m=\u001b[39mnum_outputs,\n\u001b[1;32m   (...)\u001b[0m\n\u001b[0;32m   1514\u001b[0m       cancellation_manager\u001b[38;5;241m=\u001b[39mcancellation_context,\n\u001b[0;32m   1515\u001b[0m   )\n",
      "File \u001b[1;32m~\\Desktop\\Skill 2.0\\Project\\NLP\\1) Dialogue Act Recognition\\venv\\Lib\\site-packages\\tensorflow\\python\\eager\\execute.py:53\u001b[0m, in \u001b[0;36mquick_execute\u001b[1;34m(op_name, num_outputs, inputs, attrs, ctx, name)\u001b[0m\n\u001b[0;32m     51\u001b[0m \u001b[38;5;28;01mtry\u001b[39;00m:\n\u001b[0;32m     52\u001b[0m   ctx\u001b[38;5;241m.\u001b[39mensure_initialized()\n\u001b[1;32m---> 53\u001b[0m   tensors \u001b[38;5;241m=\u001b[39m \u001b[43mpywrap_tfe\u001b[49m\u001b[38;5;241;43m.\u001b[39;49m\u001b[43mTFE_Py_Execute\u001b[49m\u001b[43m(\u001b[49m\u001b[43mctx\u001b[49m\u001b[38;5;241;43m.\u001b[39;49m\u001b[43m_handle\u001b[49m\u001b[43m,\u001b[49m\u001b[43m \u001b[49m\u001b[43mdevice_name\u001b[49m\u001b[43m,\u001b[49m\u001b[43m \u001b[49m\u001b[43mop_name\u001b[49m\u001b[43m,\u001b[49m\n\u001b[0;32m     54\u001b[0m \u001b[43m                                      \u001b[49m\u001b[43minputs\u001b[49m\u001b[43m,\u001b[49m\u001b[43m \u001b[49m\u001b[43mattrs\u001b[49m\u001b[43m,\u001b[49m\u001b[43m \u001b[49m\u001b[43mnum_outputs\u001b[49m\u001b[43m)\u001b[49m\n\u001b[0;32m     55\u001b[0m \u001b[38;5;28;01mexcept\u001b[39;00m core\u001b[38;5;241m.\u001b[39m_NotOkStatusException \u001b[38;5;28;01mas\u001b[39;00m e:\n\u001b[0;32m     56\u001b[0m   \u001b[38;5;28;01mif\u001b[39;00m name \u001b[38;5;129;01mis\u001b[39;00m \u001b[38;5;129;01mnot\u001b[39;00m \u001b[38;5;28;01mNone\u001b[39;00m:\n",
      "\u001b[1;31mKeyboardInterrupt\u001b[0m: "
     ]
    }
   ],
   "source": [
    "model.fit(X_f, y_f, \n",
    "          epochs=200, \n",
    "          batch_size=32, \n",
    "          validation_split=0.25,\n",
    "          callbacks=callbacks)"
   ]
  },
  {
   "cell_type": "markdown",
   "id": "df02b0e0-d2eb-450f-9bb2-2ca83fcafdc1",
   "metadata": {},
   "source": [
    "# Model Evaluation on Training Dataset"
   ]
  },
  {
   "cell_type": "code",
   "execution_count": 67,
   "id": "30000798-00af-4cb5-9891-a912c75365e8",
   "metadata": {},
   "outputs": [
    {
     "name": "stdout",
     "output_type": "stream",
     "text": [
      "\u001b[1m1274/1274\u001b[0m \u001b[32m━━━━━━━━━━━━━━━━━━━━\u001b[0m\u001b[37m\u001b[0m \u001b[1m41s\u001b[0m 32ms/step - f1_score: 0.3798 - hamming_loss: 0.1123 - loss: 0.2555 - precision_1: 0.8129 - recall_1: 0.2376\n"
     ]
    },
    {
     "data": {
      "text/plain": [
       "[0.2533597946166992,\n",
       " 0.11080308258533478,\n",
       " 0.813326358795166,\n",
       " 0.24083662033081055,\n",
       " 0.38435542583465576]"
      ]
     },
     "execution_count": 67,
     "metadata": {},
     "output_type": "execute_result"
    }
   ],
   "source": [
    "model.evaluate(X_f, y_f, verbose=1)"
   ]
  },
  {
   "cell_type": "code",
   "execution_count": 68,
   "id": "d085cffa-7e4d-4a39-9837-4d8b64659972",
   "metadata": {},
   "outputs": [
    {
     "name": "stdout",
     "output_type": "stream",
     "text": [
      "\u001b[1m1274/1274\u001b[0m \u001b[32m━━━━━━━━━━━━━━━━━━━━\u001b[0m\u001b[37m\u001b[0m \u001b[1m39s\u001b[0m 30ms/step\n"
     ]
    }
   ],
   "source": [
    "y_pred_prob = model.predict(X_f)\n",
    "y_pred = (y_pred_prob > 0.45).astype(int)"
   ]
  },
  {
   "cell_type": "code",
   "execution_count": 73,
   "id": "fe74c95c-a017-4554-99ae-d27ba049bec4",
   "metadata": {},
   "outputs": [],
   "source": [
    "y_pred = (y_pred_prob > 0.5).astype(int)"
   ]
  },
  {
   "cell_type": "code",
   "execution_count": 74,
   "id": "fb78b78b-7400-424f-8ffa-98f32377d0ad",
   "metadata": {},
   "outputs": [
    {
     "name": "stdout",
     "output_type": "stream",
     "text": [
      "Confusion Matrix for Label 0:\n",
      "[[32351     0]\n",
      " [ 8415     0]]\n",
      "\n",
      "Confusion Matrix for Label 1:\n",
      "[[35668     0]\n",
      " [ 5098     0]]\n",
      "\n",
      "Confusion Matrix for Label 2:\n",
      "[[34402   455]\n",
      " [ 5203   706]]\n",
      "\n",
      "Confusion Matrix for Label 3:\n",
      "[[31853   401]\n",
      " [ 6889  1623]]\n",
      "\n",
      "Confusion Matrix for Label 4:\n",
      "[[37830   230]\n",
      " [ 1951   755]]\n",
      "\n",
      "Confusion Matrix for Label 5:\n",
      "[[39923     0]\n",
      " [  843     0]]\n",
      "\n",
      "Confusion Matrix for Label 6:\n",
      "[[39705    65]\n",
      " [  670   326]]\n",
      "\n",
      "Confusion Matrix for Label 7:\n",
      "[[39870     0]\n",
      " [  896     0]]\n",
      "\n",
      "Confusion Matrix for Label 8:\n",
      "[[39812    33]\n",
      " [  864    57]]\n",
      "\n",
      "Confusion Matrix for Label 9:\n",
      "[[39197     0]\n",
      " [ 1569     0]]\n",
      "\n",
      "Confusion Matrix for Label 10:\n",
      "[[38912     0]\n",
      " [ 1854     0]]\n",
      "\n",
      "Confusion Matrix for Label 11:\n",
      "[[35959     0]\n",
      " [ 4807     0]]\n",
      "\n",
      "Confusion Matrix for Label 12:\n",
      "[[16259  1905]\n",
      " [10838 11764]]\n",
      "\n",
      "Confusion Matrix for Label 13:\n",
      "[[27045  1203]\n",
      " [ 9049  3469]]\n",
      "\n"
     ]
    }
   ],
   "source": [
    "from sklearn.metrics import multilabel_confusion_matrix,accuracy_score\n",
    "conf_matrix = multilabel_confusion_matrix(y_f, y_pred)\n",
    "for i, matrix in enumerate(conf_matrix):\n",
    "    print(f\"Confusion Matrix for Label {i}:\\n{matrix}\\n\")"
   ]
  },
  {
   "cell_type": "code",
   "execution_count": 71,
   "id": "f846a10c-15f5-4777-b8f1-73237b69a566",
   "metadata": {},
   "outputs": [
    {
     "name": "stdout",
     "output_type": "stream",
     "text": [
      "Overall Accuracy: 0.8902446716801816\n"
     ]
    }
   ],
   "source": [
    "overall_accuracy = np.mean([matrix.trace() / matrix.sum() for matrix in conf_matrix])\n",
    "print(f\"Overall Accuracy: {overall_accuracy}\")"
   ]
  }
 ],
 "metadata": {
  "kernelspec": {
   "display_name": "Python 3 (ipykernel)",
   "language": "python",
   "name": "python3"
  },
  "language_info": {
   "codemirror_mode": {
    "name": "ipython",
    "version": 3
   },
   "file_extension": ".py",
   "mimetype": "text/x-python",
   "name": "python",
   "nbconvert_exporter": "python",
   "pygments_lexer": "ipython3",
   "version": "3.11.9"
  }
 },
 "nbformat": 4,
 "nbformat_minor": 5
}
